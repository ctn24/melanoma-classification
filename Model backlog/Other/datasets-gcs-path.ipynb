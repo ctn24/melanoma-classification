{
 "cells": [
  {
   "cell_type": "code",
   "execution_count": 1,
   "metadata": {
    "execution": {
     "iopub.execute_input": "2020-08-12T12:56:38.327640Z",
     "iopub.status.busy": "2020-08-12T12:56:38.326817Z",
     "iopub.status.idle": "2020-08-12T12:56:48.051228Z",
     "shell.execute_reply": "2020-08-12T12:56:48.051882Z"
    },
    "papermill": {
     "duration": 9.739827,
     "end_time": "2020-08-12T12:56:48.052151",
     "exception": false,
     "start_time": "2020-08-12T12:56:38.312324",
     "status": "completed"
    },
    "tags": []
   },
   "outputs": [],
   "source": [
    "import os\n",
    "import tensorflow as tf\n",
    "from melanoma_utility_scripts import *\n",
    "from kaggle_datasets import KaggleDatasets\n",
    "\n",
    "dir_list = os.listdir('/kaggle/input')\n",
    "dir_list = [path for path in dir_list if 'x' in path]\n",
    "dir_list.sort()"
   ]
  },
  {
   "cell_type": "markdown",
   "execution_count": null,
   "metadata": {
    "papermill": {
     "duration": 0.004736,
     "end_time": "2020-08-12T12:56:48.063051",
     "exception": false,
     "start_time": "2020-08-12T12:56:48.058315",
     "status": "completed"
    },
    "tags": []
   },
   "source": [
    "# Malignant data"
   ]
  },
  {
   "cell_type": "code",
   "execution_count": 2,
   "metadata": {
    "_kg_hide-input": true,
    "execution": {
     "iopub.execute_input": "2020-08-12T12:56:48.082996Z",
     "iopub.status.busy": "2020-08-12T12:56:48.082209Z",
     "iopub.status.idle": "2020-08-12T12:56:52.456897Z",
     "shell.execute_reply": "2020-08-12T12:56:52.457710Z"
    },
    "papermill": {
     "duration": 4.389904,
     "end_time": "2020-08-12T12:56:52.457941",
     "exception": false,
     "start_time": "2020-08-12T12:56:48.068037",
     "status": "completed"
    },
    "tags": []
   },
   "outputs": [
    {
     "name": "stdout",
     "output_type": "stream",
     "text": [
      "malignant-v2-256x256 \t gs://kds-7a08ac82d57200266dc619d51106e4af5e89cedf0c6556f632deebf9\n",
      "Train samples: 3960\n",
      "5-Fold size: 2970\n",
      "\n",
      "malignant-v2-384x384 \t gs://kds-4dacd59e0327aff4eef56d9398ecced45e56a0afa6a43bf6bed7251b\n",
      "Train samples: 3960\n",
      "5-Fold size: 2970\n",
      "\n",
      "malignant-v2-512x512 \t gs://kds-e47f613ded612087ba7fcca706cccfd4e9fcd036dcb4127def0d79c4\n",
      "Train samples: 3960\n",
      "5-Fold size: 2970\n",
      "\n",
      "malignant-v2-768x768 \t gs://kds-4826fbc5832fe6eb691053599c8fa1b06eb57685db32bc294a545f72\n",
      "Train samples: 3960\n",
      "5-Fold size: 2970\n",
      "\n"
     ]
    }
   ],
   "source": [
    "for dirname in dir_list[8:12]:\n",
    "    GCS_PATH = KaggleDatasets().get_gcs_path(dirname)\n",
    "    TRAINING_FILENAMES = tf.io.gfile.glob(GCS_PATH + '/train*.tfrec')\n",
    "    TEST_FILENAMES = tf.io.gfile.glob(GCS_PATH + '/test*.tfrec')\n",
    "    train_size = count_data_items(TRAINING_FILENAMES)\n",
    "\n",
    "    print(f'{dirname} \\t {GCS_PATH}')\n",
    "    print(f'Train samples: {train_size}')\n",
    "    print(f'5-Fold size: {int(train_size * .75)}\\n')"
   ]
  },
  {
   "cell_type": "markdown",
   "execution_count": null,
   "metadata": {
    "papermill": {
     "duration": 0.005015,
     "end_time": "2020-08-12T12:56:52.468972",
     "exception": false,
     "start_time": "2020-08-12T12:56:52.463957",
     "status": "completed"
    },
    "tags": []
   },
   "source": [
    "# Competition data"
   ]
  },
  {
   "cell_type": "code",
   "execution_count": 3,
   "metadata": {
    "_kg_hide-input": true,
    "execution": {
     "iopub.execute_input": "2020-08-12T12:56:52.495459Z",
     "iopub.status.busy": "2020-08-12T12:56:52.487771Z",
     "iopub.status.idle": "2020-08-12T12:56:56.252142Z",
     "shell.execute_reply": "2020-08-12T12:56:56.251467Z"
    },
    "papermill": {
     "duration": 3.778126,
     "end_time": "2020-08-12T12:56:56.252298",
     "exception": false,
     "start_time": "2020-08-12T12:56:52.474172",
     "status": "completed"
    },
    "tags": []
   },
   "outputs": [
    {
     "name": "stdout",
     "output_type": "stream",
     "text": [
      "melanoma-256x256 \t gs://kds-fbc00c0b868eb34b554705994009a9d2ea1c168e4e3806326e516ba5\n",
      "Train samples: 32692\n",
      "Test samples: 10982\n",
      "5-Fold size: 24519\n",
      "\n",
      "melanoma-384x384 \t gs://kds-4794b97a7db9238be7b3a7e36e6d03f2de112b355765280d28e2b579\n",
      "Train samples: 32692\n",
      "Test samples: 10982\n",
      "5-Fold size: 24519\n",
      "\n",
      "melanoma-512x512 \t gs://kds-3f2b9fbffe7fc1f1219236db9534c99ce7c277d4d69662c3bbf6a6b0\n",
      "Train samples: 32692\n",
      "Test samples: 10982\n",
      "5-Fold size: 24519\n",
      "\n",
      "melanoma-768x768 \t gs://kds-863a8421e19bd1e8af6e49fd881c4adceae0015e529b674f0b61d4c9\n",
      "Train samples: 32692\n",
      "Test samples: 10982\n",
      "5-Fold size: 24519\n",
      "\n"
     ]
    }
   ],
   "source": [
    "for dirname in dir_list[12:]:\n",
    "    GCS_PATH = KaggleDatasets().get_gcs_path(dirname)\n",
    "    TRAINING_FILENAMES = tf.io.gfile.glob(GCS_PATH + '/train*.tfrec')\n",
    "    TEST_FILENAMES = tf.io.gfile.glob(GCS_PATH + '/test*.tfrec')\n",
    "    train_size = count_data_items(TRAINING_FILENAMES)\n",
    "    test_size = count_data_items(TEST_FILENAMES)\n",
    "\n",
    "    print(f'{dirname} \\t {GCS_PATH}')\n",
    "    print(f'Train samples: {train_size}')\n",
    "    print(f'Test samples: {test_size}')\n",
    "    print(f'5-Fold size: {int(train_size * .75)}\\n')"
   ]
  },
  {
   "cell_type": "markdown",
   "execution_count": null,
   "metadata": {
    "papermill": {
     "duration": 0.005386,
     "end_time": "2020-08-12T12:56:56.263841",
     "exception": false,
     "start_time": "2020-08-12T12:56:56.258455",
     "status": "completed"
    },
    "tags": []
   },
   "source": [
    "# External data (2019)"
   ]
  },
  {
   "cell_type": "code",
   "execution_count": 4,
   "metadata": {
    "_kg_hide-input": true,
    "execution": {
     "iopub.execute_input": "2020-08-12T12:56:56.290948Z",
     "iopub.status.busy": "2020-08-12T12:56:56.283040Z",
     "iopub.status.idle": "2020-08-12T12:57:00.844175Z",
     "shell.execute_reply": "2020-08-12T12:57:00.845196Z"
    },
    "papermill": {
     "duration": 4.575915,
     "end_time": "2020-08-12T12:57:00.845458",
     "exception": false,
     "start_time": "2020-08-12T12:56:56.269543",
     "status": "completed"
    },
    "tags": []
   },
   "outputs": [
    {
     "name": "stdout",
     "output_type": "stream",
     "text": [
      "isic2019-256x256 \t gs://kds-dfae178ddbe4da1a77993af1ac7ede33a6b835ee7c24404c2e618e00\n",
      "Train samples: 25272\n",
      "5-Fold size: 18954\n",
      "\n",
      "isic2019-384x384 \t gs://kds-ba3a4a10d62d1e054c5eb06cc1cc58dca6e03bb18f5f06af448dec55\n",
      "Train samples: 25272\n",
      "5-Fold size: 18954\n",
      "\n",
      "isic2019-512x512 \t gs://kds-f0e31d98a8a127bdee8ff028fef64d527f41e044629193a390f7610c\n",
      "Train samples: 25272\n",
      "5-Fold size: 18954\n",
      "\n",
      "isic2019-768x768 \t gs://kds-d76b4251d97923c2736426394305c4928d933ed129182dc7adc4d77c\n",
      "Train samples: 25272\n",
      "5-Fold size: 18954\n",
      "\n"
     ]
    }
   ],
   "source": [
    "for dirname in dir_list[4:8]:\n",
    "    GCS_PATH = KaggleDatasets().get_gcs_path(dirname)\n",
    "    TRAINING_FILENAMES = tf.io.gfile.glob(GCS_PATH + '/train*.tfrec')\n",
    "    TEST_FILENAMES = tf.io.gfile.glob(GCS_PATH + '/test*.tfrec')\n",
    "    train_size = count_data_items(TRAINING_FILENAMES)\n",
    "\n",
    "    print(f'{dirname} \\t {GCS_PATH}')\n",
    "    print(f'Train samples: {train_size}')\n",
    "    print(f'5-Fold size: {int(train_size * .75)}\\n')"
   ]
  },
  {
   "cell_type": "markdown",
   "execution_count": null,
   "metadata": {
    "papermill": {
     "duration": 0.005848,
     "end_time": "2020-08-12T12:57:00.859806",
     "exception": false,
     "start_time": "2020-08-12T12:57:00.853958",
     "status": "completed"
    },
    "tags": []
   },
   "source": [
    "# Big Transfer (BiT) weights"
   ]
  },
  {
   "cell_type": "code",
   "execution_count": 5,
   "metadata": {
    "_kg_hide-input": true,
    "execution": {
     "iopub.execute_input": "2020-08-12T12:57:00.885982Z",
     "iopub.status.busy": "2020-08-12T12:57:00.885154Z",
     "iopub.status.idle": "2020-08-12T12:58:19.202125Z",
     "shell.execute_reply": "2020-08-12T12:58:19.202915Z"
    },
    "papermill": {
     "duration": 78.337394,
     "end_time": "2020-08-12T12:58:19.203332",
     "exception": false,
     "start_time": "2020-08-12T12:57:00.865938",
     "status": "completed"
    },
    "tags": []
   },
   "outputs": [
    {
     "name": "stdout",
     "output_type": "stream",
     "text": [
      "gs://kds-3291c2fc2e4dace373d145791f39ed24d7270d90595f7db108242541\n"
     ]
    }
   ],
   "source": [
    "GCS_PATH = KaggleDatasets().get_gcs_path('big-transfer-bit-weights')\n",
    "print(f'{GCS_PATH}')"
   ]
  }
 ],
 "metadata": {
  "kernelspec": {
   "display_name": "Python 3",
   "language": "python",
   "name": "python3"
  },
  "language_info": {
   "codemirror_mode": {
    "name": "ipython",
    "version": 3
   },
   "file_extension": ".py",
   "mimetype": "text/x-python",
   "name": "python",
   "nbconvert_exporter": "python",
   "pygments_lexer": "ipython3",
   "version": "3.7.6"
  },
  "papermill": {
   "duration": 106.386921,
   "end_time": "2020-08-12T12:58:19.319989",
   "environment_variables": {},
   "exception": null,
   "input_path": "__notebook__.ipynb",
   "output_path": "__notebook__.ipynb",
   "parameters": {},
   "start_time": "2020-08-12T12:56:32.933068",
   "version": "2.1.0"
  }
 },
 "nbformat": 4,
 "nbformat_minor": 4
}
