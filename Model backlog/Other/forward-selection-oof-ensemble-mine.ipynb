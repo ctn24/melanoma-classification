{
 "cells": [
  {
   "cell_type": "markdown",
   "execution_count": null,
   "metadata": {
    "papermill": {
     "duration": 0.006416,
     "end_time": "2020-08-21T12:46:24.663875",
     "exception": false,
     "start_time": "2020-08-21T12:46:24.657459",
     "status": "completed"
    },
    "tags": []
   },
   "source": [
    "# How To Ensemble OOF\n",
    "In this notebook, we learn how to use `forward selection` to ensemble OOF. First build lots of models using the same KFolds (i.e. use same `seed`). Next save all the oof files as `oof_XX.csv` and submission files as `sub_XX.csv` where the oof and submission share the same `XX` number. Then save them in a Kaggle dataset and run the code below.\n",
    "\n",
    "The ensemble begins with the model of highest oof AUC. Next each other model is added one by one to see which additional model increases ensemble AUC the most. The best additional model is kept and the process is repeated until the ensemble AUC doesn't increase."
   ]
  },
  {
   "cell_type": "markdown",
   "execution_count": null,
   "metadata": {
    "papermill": {
     "duration": 0.004475,
     "end_time": "2020-08-21T12:46:24.673636",
     "exception": false,
     "start_time": "2020-08-21T12:46:24.669161",
     "status": "completed"
    },
    "tags": []
   },
   "source": [
    "# Read OOF Files"
   ]
  },
  {
   "cell_type": "code",
   "execution_count": 1,
   "metadata": {
    "_cell_guid": "b1076dfc-b9ad-4769-8c92-a6c4dae69d19",
    "_uuid": "8f2839f25d086af736a60e9eeb907d3b93b6e0e5",
    "execution": {
     "iopub.execute_input": "2020-08-21T12:46:24.689445Z",
     "iopub.status.busy": "2020-08-21T12:46:24.688679Z",
     "iopub.status.idle": "2020-08-21T12:46:25.803553Z",
     "shell.execute_reply": "2020-08-21T12:46:25.802721Z"
    },
    "papermill": {
     "duration": 1.124998,
     "end_time": "2020-08-21T12:46:25.803696",
     "exception": false,
     "start_time": "2020-08-21T12:46:24.678698",
     "status": "completed"
    },
    "tags": []
   },
   "outputs": [],
   "source": [
    "import pandas as pd, numpy as np, os\n",
    "from sklearn.metrics import roc_auc_score\n",
    "import matplotlib.pyplot as plt"
   ]
  },
  {
   "cell_type": "code",
   "execution_count": 2,
   "metadata": {
    "execution": {
     "iopub.execute_input": "2020-08-21T12:46:25.820440Z",
     "iopub.status.busy": "2020-08-21T12:46:25.819765Z",
     "iopub.status.idle": "2020-08-21T12:46:26.938135Z",
     "shell.execute_reply": "2020-08-21T12:46:26.937393Z"
    },
    "papermill": {
     "duration": 1.12959,
     "end_time": "2020-08-21T12:46:26.938295",
     "exception": false,
     "start_time": "2020-08-21T12:46:25.808705",
     "status": "completed"
    },
    "tags": []
   },
   "outputs": [
    {
     "name": "stdout",
     "output_type": "stream",
     "text": [
      "We have 20 oof files...\n",
      "\n",
      "['129-oof.csv' '131-oof.csv' '132-oof.csv' '134-oof.csv' '136-oof.csv'\n",
      " '137-oof.csv' '138-oof.csv' '139-oof.csv' '140-oof.csv' '145-oof.csv'\n",
      " '146-oof.csv' '147-oof.csv' '149-oof.csv' '150-oof.csv' '151-oof.csv'\n",
      " '152-oof.csv' '153-oof.csv' '156-oof.csv' '157-oof.csv' '159-oof.csv']\n"
     ]
    }
   ],
   "source": [
    "# PATH = '../input/melanoma-oof-and-sub/'\n",
    "PATH = '../input/melanomas-oof/'\n",
    "FILES = os.listdir(PATH)\n",
    "\n",
    "OOF = np.sort( [f for f in FILES if ('oof' in f) and ('meta' not in f)] )\n",
    "OOF_CSV = [pd.read_csv(PATH+k) for k in OOF]\n",
    "\n",
    "print('We have %i oof files...'%len(OOF))\n",
    "print(); print(OOF)"
   ]
  },
  {
   "cell_type": "code",
   "execution_count": 3,
   "metadata": {
    "execution": {
     "iopub.execute_input": "2020-08-21T12:46:26.958818Z",
     "iopub.status.busy": "2020-08-21T12:46:26.957747Z",
     "iopub.status.idle": "2020-08-21T12:46:26.974434Z",
     "shell.execute_reply": "2020-08-21T12:46:26.973750Z"
    },
    "papermill": {
     "duration": 0.03088,
     "end_time": "2020-08-21T12:46:26.974566",
     "exception": false,
     "start_time": "2020-08-21T12:46:26.943686",
     "status": "completed"
    },
    "tags": []
   },
   "outputs": [],
   "source": [
    "x = np.zeros(( len(OOF_CSV[0]),len(OOF) ))\n",
    "for k in range(len(OOF)):\n",
    "    x[:,k] = OOF_CSV[k].pred.values\n",
    "    \n",
    "TRUE = OOF_CSV[0].target.values"
   ]
  },
  {
   "cell_type": "code",
   "execution_count": 4,
   "metadata": {
    "execution": {
     "iopub.execute_input": "2020-08-21T12:46:26.990398Z",
     "iopub.status.busy": "2020-08-21T12:46:26.989682Z",
     "iopub.status.idle": "2020-08-21T12:46:27.215970Z",
     "shell.execute_reply": "2020-08-21T12:46:27.216459Z"
    },
    "papermill": {
     "duration": 0.237512,
     "end_time": "2020-08-21T12:46:27.216669",
     "exception": false,
     "start_time": "2020-08-21T12:46:26.979157",
     "status": "completed"
    },
    "tags": []
   },
   "outputs": [
    {
     "name": "stdout",
     "output_type": "stream",
     "text": [
      "Model 0 has OOF AUC = 0.9101\n",
      "Model 1 has OOF AUC = 0.9090\n",
      "Model 2 has OOF AUC = 0.9082\n",
      "Model 3 has OOF AUC = 0.9106\n",
      "Model 4 has OOF AUC = 0.9202\n",
      "Model 5 has OOF AUC = 0.9225\n",
      "Model 6 has OOF AUC = 0.9222\n",
      "Model 7 has OOF AUC = 0.9037\n",
      "Model 8 has OOF AUC = 0.9367\n",
      "Model 9 has OOF AUC = 0.9313\n",
      "Model 10 has OOF AUC = 0.9305\n",
      "Model 11 has OOF AUC = 0.9303\n",
      "Model 12 has OOF AUC = 0.9283\n",
      "Model 13 has OOF AUC = 0.9331\n",
      "Model 14 has OOF AUC = 0.9304\n",
      "Model 15 has OOF AUC = 0.9328\n",
      "Model 16 has OOF AUC = 0.9289\n",
      "Model 17 has OOF AUC = 0.9310\n",
      "Model 18 has OOF AUC = 0.9382\n",
      "Model 19 has OOF AUC = 0.9311\n"
     ]
    }
   ],
   "source": [
    "all = []\n",
    "for k in range(x.shape[1]):\n",
    "    auc = roc_auc_score(OOF_CSV[0].target,x[:,k])\n",
    "    all.append(auc)\n",
    "    print('Model %i has OOF AUC = %.4f'%(k,auc))\n",
    "    \n",
    "m = [np.argmax(all)]; w = []"
   ]
  },
  {
   "cell_type": "markdown",
   "execution_count": null,
   "metadata": {
    "papermill": {
     "duration": 0.006082,
     "end_time": "2020-08-21T12:46:27.227738",
     "exception": false,
     "start_time": "2020-08-21T12:46:27.221656",
     "status": "completed"
    },
    "tags": []
   },
   "source": [
    "# Build OOF Ensemble. Maximize CV Score"
   ]
  },
  {
   "cell_type": "code",
   "execution_count": 5,
   "metadata": {
    "execution": {
     "iopub.execute_input": "2020-08-21T12:46:27.253731Z",
     "iopub.status.busy": "2020-08-21T12:46:27.252663Z",
     "iopub.status.idle": "2020-08-21T12:46:58.744686Z",
     "shell.execute_reply": "2020-08-21T12:46:58.743698Z"
    },
    "papermill": {
     "duration": 31.512475,
     "end_time": "2020-08-21T12:46:58.744836",
     "exception": false,
     "start_time": "2020-08-21T12:46:27.232361",
     "status": "completed"
    },
    "tags": []
   },
   "outputs": [
    {
     "name": "stdout",
     "output_type": "stream",
     "text": [
      "Ensemble AUC = 0.9382 by beginning with model 18\n",
      "\n",
      "Searching for best model to add... \n",
      "0 , 1 , 2 , 3 , 4 , 5 , 6 , 7 , 8 , 9 , 10 , 11 , 12 , 13 , 14 , 15 , 16 , 17 , 18 , 19 , \n",
      "Ensemble AUC = 0.9445 after adding model 8 with weight 0.515. Increase of 0.0063\n",
      "\n",
      "Searching for best model to add... \n",
      "0 , 1 , 2 , 3 , 4 , 5 , 6 , 7 , 8 , 9 , 10 , 11 , 12 , 13 , 14 , 15 , 16 , 17 , 18 , 19 , \n",
      "Ensemble AUC = 0.9461 after adding model 17 with weight 0.190. Increase of 0.0016\n",
      "\n",
      "Searching for best model to add... \n",
      "0 , 1 , 2 , 3 , 4 , 5 , 6 , 7 , 8 , 9 , 10 , 11 , 12 , 13 , 14 , 15 , 16 , 17 , 18 , 19 , \n",
      "Ensemble AUC = 0.9469 after adding model 15 with weight 0.160. Increase of 0.0008\n",
      "\n",
      "Searching for best model to add... \n",
      "0 , 1 , 2 , 3 , 4 , 5 , 6 , 7 , 8 , 9 , 10 , 11 , 12 , 13 , 14 , 15 , 16 , 17 , 18 , 19 , \n",
      "No increase. Stopping.\n"
     ]
    }
   ],
   "source": [
    "old = np.max(all); \n",
    "\n",
    "RES = 200; \n",
    "PATIENCE = 10; \n",
    "TOL = 0.0003\n",
    "DUPLICATES = False\n",
    "\n",
    "print('Ensemble AUC = %.4f by beginning with model %i'%(old,m[0]))\n",
    "print()\n",
    "\n",
    "for kk in range(len(OOF)):\n",
    "    \n",
    "    # BUILD CURRENT ENSEMBLE\n",
    "    md = x[:,m[0]]\n",
    "    for i,k in enumerate(m[1:]):\n",
    "        md = w[i]*x[:,k] + (1-w[i])*md\n",
    "        \n",
    "    # FIND MODEL TO ADD\n",
    "    mx = 0; mx_k = 0; mx_w = 0\n",
    "    print('Searching for best model to add... ')\n",
    "    \n",
    "    # TRY ADDING EACH MODEL\n",
    "    for k in range(x.shape[1]):\n",
    "        print(k,', ',end='')\n",
    "        if not DUPLICATES and (k in m): continue\n",
    "            \n",
    "        # EVALUATE ADDING MODEL K WITH WEIGHTS W\n",
    "        bst_j = 0; bst = 0; ct = 0\n",
    "        for j in range(RES):\n",
    "            tmp = j/RES*x[:,k] + (1-j/RES)*md\n",
    "            auc = roc_auc_score(TRUE,tmp)\n",
    "            if auc>bst:\n",
    "                bst = auc\n",
    "                bst_j = j/RES\n",
    "            else: ct += 1\n",
    "            if ct>PATIENCE: break\n",
    "        if bst>mx:\n",
    "            mx = bst\n",
    "            mx_k = k\n",
    "            mx_w = bst_j\n",
    "            \n",
    "    # STOP IF INCREASE IS LESS THAN TOL\n",
    "    inc = mx-old\n",
    "    if inc<=TOL: \n",
    "        print(); print('No increase. Stopping.')\n",
    "        break\n",
    "        \n",
    "    # DISPLAY RESULTS\n",
    "    print(); #print(kk,mx,mx_k,mx_w,'%.5f'%inc)\n",
    "    print('Ensemble AUC = %.4f after adding model %i with weight %.3f. Increase of %.4f'%(mx,mx_k,mx_w,inc))\n",
    "    print()\n",
    "    \n",
    "    old = mx; m.append(mx_k); w.append(mx_w)"
   ]
  },
  {
   "cell_type": "code",
   "execution_count": 6,
   "metadata": {
    "execution": {
     "iopub.execute_input": "2020-08-21T12:46:58.765996Z",
     "iopub.status.busy": "2020-08-21T12:46:58.765119Z",
     "iopub.status.idle": "2020-08-21T12:46:58.768278Z",
     "shell.execute_reply": "2020-08-21T12:46:58.768893Z"
    },
    "papermill": {
     "duration": 0.016648,
     "end_time": "2020-08-21T12:46:58.769054",
     "exception": false,
     "start_time": "2020-08-21T12:46:58.752406",
     "status": "completed"
    },
    "tags": []
   },
   "outputs": [
    {
     "name": "stdout",
     "output_type": "stream",
     "text": [
      "We are using models [18, 8, 17, 15]\n",
      "with weights [0.515, 0.19, 0.16]\n",
      "and achieve ensemble AUC = 0.9469\n"
     ]
    }
   ],
   "source": [
    "print('We are using models',m)\n",
    "print('with weights',w)\n",
    "print('and achieve ensemble AUC = %.4f'%old)"
   ]
  },
  {
   "cell_type": "code",
   "execution_count": 7,
   "metadata": {
    "execution": {
     "iopub.execute_input": "2020-08-21T12:46:58.790699Z",
     "iopub.status.busy": "2020-08-21T12:46:58.790017Z",
     "iopub.status.idle": "2020-08-21T12:46:59.179757Z",
     "shell.execute_reply": "2020-08-21T12:46:59.180246Z"
    },
    "papermill": {
     "duration": 0.403926,
     "end_time": "2020-08-21T12:46:59.180428",
     "exception": false,
     "start_time": "2020-08-21T12:46:58.776502",
     "status": "completed"
    },
    "tags": []
   },
   "outputs": [
    {
     "data": {
      "image/png": "[encoded data removed]",
      "text/plain": [
       "<Figure size 1440x432 with 1 Axes>"
      ]
     },
     "metadata": {
      "needs_background": "light"
     },
     "output_type": "display_data"
    }
   ],
   "source": [
    "md = x[:,m[0]]\n",
    "for i,k in enumerate(m[1:]):\n",
    "    md = w[i]*x[:,k] + (1-w[i])*md\n",
    "\n",
    "fig = plt.subplots(figsize=(20, 6))\n",
    "plt.hist(md, bins=100)\n",
    "plt.title('Ensemble OOF predictions', size=18)\n",
    "plt.show()"
   ]
  },
  {
   "cell_type": "code",
   "execution_count": 8,
   "metadata": {
    "execution": {
     "iopub.execute_input": "2020-08-21T12:46:59.200933Z",
     "iopub.status.busy": "2020-08-21T12:46:59.200185Z",
     "iopub.status.idle": "2020-08-21T12:46:59.477185Z",
     "shell.execute_reply": "2020-08-21T12:46:59.476552Z"
    },
    "papermill": {
     "duration": 0.289397,
     "end_time": "2020-08-21T12:46:59.477350",
     "exception": false,
     "start_time": "2020-08-21T12:46:59.187953",
     "status": "completed"
    },
    "tags": []
   },
   "outputs": [],
   "source": [
    "df = OOF_CSV[0].copy()\n",
    "df.pred = md\n",
    "df.to_csv('ensemble_oof.csv',index=False)"
   ]
  },
  {
   "cell_type": "markdown",
   "execution_count": null,
   "metadata": {
    "papermill": {
     "duration": 0.007335,
     "end_time": "2020-08-21T12:46:59.492791",
     "exception": false,
     "start_time": "2020-08-21T12:46:59.485456",
     "status": "completed"
    },
    "tags": []
   },
   "source": [
    "# Load SUB Files"
   ]
  },
  {
   "cell_type": "code",
   "execution_count": 9,
   "metadata": {
    "execution": {
     "iopub.execute_input": "2020-08-21T12:46:59.512857Z",
     "iopub.status.busy": "2020-08-21T12:46:59.512128Z",
     "iopub.status.idle": "2020-08-21T12:46:59.515104Z",
     "shell.execute_reply": "2020-08-21T12:46:59.514558Z"
    },
    "papermill": {
     "duration": 0.014841,
     "end_time": "2020-08-21T12:46:59.515230",
     "exception": false,
     "start_time": "2020-08-21T12:46:59.500389",
     "status": "completed"
    },
    "tags": []
   },
   "outputs": [],
   "source": [
    "# PATH_SUB = '../input/melanoma-submissions/'\n",
    "# FILES_SUB = os.listdir(PATH_SUB)\n",
    "\n",
    "# SUB = np.sort( [f for f in FILES_SUB if 'sub' in f] )\n",
    "# SUB_CSV = [pd.read_csv(PATH_SUB+k) for k in SUB]\n",
    "\n",
    "# print('We have %i submission files...'%len(SUB))\n",
    "# print(); print(SUB)"
   ]
  },
  {
   "cell_type": "code",
   "execution_count": 10,
   "metadata": {
    "execution": {
     "iopub.execute_input": "2020-08-21T12:46:59.535663Z",
     "iopub.status.busy": "2020-08-21T12:46:59.535004Z",
     "iopub.status.idle": "2020-08-21T12:46:59.537997Z",
     "shell.execute_reply": "2020-08-21T12:46:59.537380Z"
    },
    "papermill": {
     "duration": 0.01477,
     "end_time": "2020-08-21T12:46:59.538109",
     "exception": false,
     "start_time": "2020-08-21T12:46:59.523339",
     "status": "completed"
    },
    "tags": []
   },
   "outputs": [],
   "source": [
    "# # VERFIY THAT SUBMISSION FILES MATCH OOF FILES\n",
    "# a = np.array( [ int( x.split('_')[1].split('.')[0]) for x in SUB ] )\n",
    "# b = np.array( [ int( x.split('_')[1].split('.')[0]) for x in OOF ] )\n",
    "# if len(a)!=len(b):\n",
    "#     print('ERROR submission files dont match oof files')\n",
    "# else:\n",
    "#     for k in range(len(a)):\n",
    "#         if a[k]!=b[k]: print('ERROR submission files dont match oof files')"
   ]
  },
  {
   "cell_type": "code",
   "execution_count": 11,
   "metadata": {
    "execution": {
     "iopub.execute_input": "2020-08-21T12:46:59.558561Z",
     "iopub.status.busy": "2020-08-21T12:46:59.557833Z",
     "iopub.status.idle": "2020-08-21T12:46:59.561256Z",
     "shell.execute_reply": "2020-08-21T12:46:59.560739Z"
    },
    "papermill": {
     "duration": 0.015543,
     "end_time": "2020-08-21T12:46:59.561399",
     "exception": false,
     "start_time": "2020-08-21T12:46:59.545856",
     "status": "completed"
    },
    "tags": []
   },
   "outputs": [],
   "source": [
    "# y = np.zeros(( len(SUB_CSV[0]),len(SUB) ))\n",
    "# for k in range(len(SUB)):\n",
    "#     y[:,k] = SUB_CSV[k].target.values"
   ]
  },
  {
   "cell_type": "markdown",
   "execution_count": null,
   "metadata": {
    "papermill": {
     "duration": 0.007456,
     "end_time": "2020-08-21T12:46:59.576911",
     "exception": false,
     "start_time": "2020-08-21T12:46:59.569455",
     "status": "completed"
    },
    "tags": []
   },
   "source": [
    "# Build SUB Ensemble"
   ]
  },
  {
   "cell_type": "code",
   "execution_count": 12,
   "metadata": {
    "execution": {
     "iopub.execute_input": "2020-08-21T12:46:59.597078Z",
     "iopub.status.busy": "2020-08-21T12:46:59.596458Z",
     "iopub.status.idle": "2020-08-21T12:46:59.599338Z",
     "shell.execute_reply": "2020-08-21T12:46:59.599813Z"
    },
    "papermill": {
     "duration": 0.015199,
     "end_time": "2020-08-21T12:46:59.600022",
     "exception": false,
     "start_time": "2020-08-21T12:46:59.584823",
     "status": "completed"
    },
    "tags": []
   },
   "outputs": [],
   "source": [
    "# md2 = y[:,m[0]]\n",
    "# for i,k in enumerate(m[1:]):\n",
    "#     md2 = w[i]*y[:,k] + (1-w[i])*md2\n",
    "# plt.hist(md2,bins=100)\n",
    "# plt.show()"
   ]
  },
  {
   "cell_type": "code",
   "execution_count": 13,
   "metadata": {
    "execution": {
     "iopub.execute_input": "2020-08-21T12:46:59.620895Z",
     "iopub.status.busy": "2020-08-21T12:46:59.620181Z",
     "iopub.status.idle": "2020-08-21T12:46:59.622931Z",
     "shell.execute_reply": "2020-08-21T12:46:59.623397Z"
    },
    "papermill": {
     "duration": 0.015152,
     "end_time": "2020-08-21T12:46:59.623557",
     "exception": false,
     "start_time": "2020-08-21T12:46:59.608405",
     "status": "completed"
    },
    "tags": []
   },
   "outputs": [],
   "source": [
    "# df = SUB_CSV[0].copy()\n",
    "# df.target = md2\n",
    "# df.to_csv('ensemble_sub.csv',index=False)"
   ]
  }
 ],
 "metadata": {
  "kernelspec": {
   "display_name": "Python 3",
   "language": "python",
   "name": "python3"
  },
  "language_info": {
   "codemirror_mode": {
    "name": "ipython",
    "version": 3
   },
   "file_extension": ".py",
   "mimetype": "text/x-python",
   "name": "python",
   "nbconvert_exporter": "python",
   "pygments_lexer": "ipython3",
   "version": "3.7.6"
  },
  "papermill": {
   "duration": 41.004318,
   "end_time": "2020-08-21T12:47:00.739104",
   "environment_variables": {},
   "exception": null,
   "input_path": "__notebook__.ipynb",
   "output_path": "__notebook__.ipynb",
   "parameters": {},
   "start_time": "2020-08-21T12:46:19.734786",
   "version": "2.1.0"
  }
 },
 "nbformat": 4,
 "nbformat_minor": 4
}
