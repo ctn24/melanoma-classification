{
 "cells": [
  {
   "cell_type": "markdown",
   "execution_count": null,
   "metadata": {
    "papermill": {
     "duration": 0.00845,
     "end_time": "2020-08-17T21:25:49.414608",
     "exception": false,
     "start_time": "2020-08-17T21:25:49.406158",
     "status": "completed"
    },
    "tags": []
   },
   "source": [
    "## Dependencies"
   ]
  },
  {
   "cell_type": "code",
   "execution_count": 1,
   "metadata": {
    "_cell_guid": "b1076dfc-b9ad-4769-8c92-a6c4dae69d19",
    "_kg_hide-input": true,
    "_kg_hide-output": true,
    "_uuid": "8f2839f25d086af736a60e9eeb907d3b93b6e0e5",
    "execution": {
     "iopub.execute_input": "2020-08-17T21:25:49.434486Z",
     "iopub.status.busy": "2020-08-17T21:25:49.433652Z",
     "iopub.status.idle": "2020-08-17T21:25:59.338168Z",
     "shell.execute_reply": "2020-08-17T21:25:59.337137Z"
    },
    "papermill": {
     "duration": 9.916356,
     "end_time": "2020-08-17T21:25:59.338305",
     "exception": false,
     "start_time": "2020-08-17T21:25:49.421949",
     "status": "completed"
    },
    "tags": []
   },
   "outputs": [
    {
     "name": "stdout",
     "output_type": "stream",
     "text": [
      "\u001b[33mWARNING: You are using pip version 20.1.1; however, version 20.2.2 is available.\r\n",
      "You should consider upgrading via the '/opt/conda/bin/python3.7 -m pip install --upgrade pip' command.\u001b[0m\r\n"
     ]
    }
   ],
   "source": [
    "!pip install --quiet efficientnet\n",
    "# !pip install --quiet image-classifiers"
   ]
  },
  {
   "cell_type": "code",
   "execution_count": 2,
   "metadata": {
    "_kg_hide-input": true,
    "execution": {
     "iopub.execute_input": "2020-08-17T21:25:59.361637Z",
     "iopub.status.busy": "2020-08-17T21:25:59.360833Z",
     "iopub.status.idle": "2020-08-17T21:26:07.192025Z",
     "shell.execute_reply": "2020-08-17T21:26:07.190873Z"
    },
    "papermill": {
     "duration": 7.846469,
     "end_time": "2020-08-17T21:26:07.192162",
     "exception": false,
     "start_time": "2020-08-17T21:25:59.345693",
     "status": "completed"
    },
    "tags": []
   },
   "outputs": [],
   "source": [
    "import warnings, json, re, glob, math\n",
    "from scripts_step_lr_schedulers import *\n",
    "from melanoma_utility_scripts import *\n",
    "from kaggle_datasets import KaggleDatasets\n",
    "from sklearn.model_selection import KFold\n",
    "import tensorflow.keras.layers as L\n",
    "import tensorflow.keras.backend as K\n",
    "from tensorflow.keras.callbacks import EarlyStopping, ModelCheckpoint, LearningRateScheduler\n",
    "from tensorflow.keras import optimizers, layers, metrics, losses, Model\n",
    "# import tensorflow_addons as tfa\n",
    "import efficientnet.tfkeras as efn\n",
    "# from classification_models.tfkeras import Classifiers\n",
    "from tensorflow_hub import KerasLayer\n",
    "import tensorflow_probability as tfp\n",
    "\n",
    "SEED = 42\n",
    "seed_everything(SEED)\n",
    "warnings.filterwarnings('ignore')"
   ]
  },
  {
   "cell_type": "markdown",
   "execution_count": null,
   "metadata": {
    "papermill": {
     "duration": 0.006969,
     "end_time": "2020-08-17T21:26:07.208464",
     "exception": false,
     "start_time": "2020-08-17T21:26:07.201495",
     "status": "completed"
    },
    "tags": []
   },
   "source": [
    "## TPU configuration"
   ]
  },
  {
   "cell_type": "code",
   "execution_count": 3,
   "metadata": {
    "_kg_hide-input": true,
    "execution": {
     "iopub.execute_input": "2020-08-17T21:26:07.227970Z",
     "iopub.status.busy": "2020-08-17T21:26:07.227239Z",
     "iopub.status.idle": "2020-08-17T21:26:07.240450Z",
     "shell.execute_reply": "2020-08-17T21:26:07.239889Z"
    },
    "papermill": {
     "duration": 0.025018,
     "end_time": "2020-08-17T21:26:07.240567",
     "exception": false,
     "start_time": "2020-08-17T21:26:07.215549",
     "status": "completed"
    },
    "tags": []
   },
   "outputs": [
    {
     "name": "stdout",
     "output_type": "stream",
     "text": [
      "REPLICAS: 1\n"
     ]
    }
   ],
   "source": [
    "strategy, tpu = set_up_strategy()\n",
    "REPLICAS = strategy.num_replicas_in_sync\n",
    "print(f'REPLICAS: {REPLICAS}')\n",
    "AUTO = tf.data.experimental.AUTOTUNE"
   ]
  },
  {
   "cell_type": "markdown",
   "execution_count": null,
   "metadata": {
    "papermill": {
     "duration": 0.006743,
     "end_time": "2020-08-17T21:26:07.254317",
     "exception": false,
     "start_time": "2020-08-17T21:26:07.247574",
     "status": "completed"
    },
    "tags": []
   },
   "source": [
    "# Model parameters"
   ]
  },
  {
   "cell_type": "code",
   "execution_count": 4,
   "metadata": {
    "_cell_guid": "79c7e3d0-c299-4dcb-8224-4455121ee9b0",
    "_kg_hide-input": true,
    "_uuid": "d629ff2d2480ee46fbb7e2d37f6b5fab8052498a",
    "execution": {
     "iopub.execute_input": "2020-08-17T21:26:07.276266Z",
     "iopub.status.busy": "2020-08-17T21:26:07.275669Z",
     "iopub.status.idle": "2020-08-17T21:26:07.285542Z",
     "shell.execute_reply": "2020-08-17T21:26:07.286000Z"
    },
    "papermill": {
     "duration": 0.024813,
     "end_time": "2020-08-17T21:26:07.286127",
     "exception": false,
     "start_time": "2020-08-17T21:26:07.261314",
     "status": "completed"
    },
    "tags": []
   },
   "outputs": [
    {
     "data": {
      "text/plain": [
       "{'HEIGHT': 256,\n",
       " 'WIDTH': 256,\n",
       " 'HEIGHT_RS': 224,\n",
       " 'WIDTH_RS': 224,\n",
       " 'CHANNELS': 3,\n",
       " 'BATCH_SIZE': 16,\n",
       " 'EPOCHS': 110,\n",
       " 'LEARNING_RATE': 0.00015625,\n",
       " 'ES_PATIENCE': 10,\n",
       " 'N_FOLDS': 5,\n",
       " 'N_USED_FOLDS': 5,\n",
       " 'TTA_STEPS': 5,\n",
       " 'BASE_MODEL': 'EfficientNetB0',\n",
       " 'BASE_MODEL_WEIGHTS': 'noisy-student',\n",
       " 'DATASET_PATH': 'melanoma-256x256',\n",
       " 'INFERENCE': False}"
      ]
     },
     "execution_count": 4,
     "metadata": {},
     "output_type": "execute_result"
    }
   ],
   "source": [
    "config = {\n",
    "  \"HEIGHT\": 256,\n",
    "  \"WIDTH\": 256,\n",
    "  \"HEIGHT_RS\": 224,\n",
    "  \"WIDTH_RS\": 224,\n",
    "  \"CHANNELS\": 3,\n",
    "  \"BATCH_SIZE\": 16,\n",
    "  \"EPOCHS\": 110,\n",
    "  \"LEARNING_RATE\": 5e-3,\n",
    "  \"ES_PATIENCE\": 10,\n",
    "  \"N_FOLDS\": 5,\n",
    "  \"N_USED_FOLDS\": 5,\n",
    "  \"TTA_STEPS\": 5,\n",
    "  \"BASE_MODEL\": 'EfficientNetB0',\n",
    "  \"BASE_MODEL_WEIGHTS\": 'noisy-student',\n",
    "  \"DATASET_PATH\": 'melanoma-256x256',\n",
    "  \"INFERENCE\": False\n",
    "}\n",
    "\n",
    "with open('config.json', 'w') as json_file:\n",
    "    json.dump(json.loads(json.dumps(config)), json_file)\n",
    "    \n",
    "config['LEARNING_RATE'] = config['LEARNING_RATE'] * config['BATCH_SIZE'] / 512 * REPLICAS\n",
    "config"
   ]
  },
  {
   "cell_type": "markdown",
   "execution_count": null,
   "metadata": {
    "papermill": {
     "duration": 0.007076,
     "end_time": "2020-08-17T21:26:07.300306",
     "exception": false,
     "start_time": "2020-08-17T21:26:07.293230",
     "status": "completed"
    },
    "tags": []
   },
   "source": [
    "# Load data"
   ]
  },
  {
   "cell_type": "code",
   "execution_count": 5,
   "metadata": {
    "_kg_hide-input": true,
    "execution": {
     "iopub.execute_input": "2020-08-17T21:26:07.324972Z",
     "iopub.status.busy": "2020-08-17T21:26:07.324220Z",
     "iopub.status.idle": "2020-08-17T21:26:21.561513Z",
     "shell.execute_reply": "2020-08-17T21:26:21.562032Z"
    },
    "papermill": {
     "duration": 14.254891,
     "end_time": "2020-08-17T21:26:21.562201",
     "exception": false,
     "start_time": "2020-08-17T21:26:07.307310",
     "status": "completed"
    },
    "tags": []
   },
   "outputs": [
    {
     "name": "stdout",
     "output_type": "stream",
     "text": [
      "Train samples: 33126\n"
     ]
    },
    {
     "data": {
      "text/html": [
       "<div>\n",
       "<style scoped>\n",
       "    .dataframe tbody tr th:only-of-type {\n",
       "        vertical-align: middle;\n",
       "    }\n",
       "\n",
       "    .dataframe tbody tr th {\n",
       "        vertical-align: top;\n",
       "    }\n",
       "\n",
       "    .dataframe thead th {\n",
       "        text-align: right;\n",
       "    }\n",
       "</style>\n",
       "<table border=\"1\" class=\"dataframe\">\n",
       "  <thead>\n",
       "    <tr style=\"text-align: right;\">\n",
       "      <th></th>\n",
       "      <th>image_name</th>\n",
       "      <th>patient_id</th>\n",
       "      <th>sex</th>\n",
       "      <th>age_approx</th>\n",
       "      <th>anatom_site_general_challenge</th>\n",
       "      <th>diagnosis</th>\n",
       "      <th>benign_malignant</th>\n",
       "      <th>target</th>\n",
       "    </tr>\n",
       "  </thead>\n",
       "  <tbody>\n",
       "    <tr>\n",
       "      <th>0</th>\n",
       "      <td>ISIC_2637011</td>\n",
       "      <td>IP_7279968</td>\n",
       "      <td>male</td>\n",
       "      <td>45.0</td>\n",
       "      <td>head/neck</td>\n",
       "      <td>unknown</td>\n",
       "      <td>benign</td>\n",
       "      <td>0</td>\n",
       "    </tr>\n",
       "    <tr>\n",
       "      <th>1</th>\n",
       "      <td>ISIC_0015719</td>\n",
       "      <td>IP_3075186</td>\n",
       "      <td>female</td>\n",
       "      <td>45.0</td>\n",
       "      <td>upper extremity</td>\n",
       "      <td>unknown</td>\n",
       "      <td>benign</td>\n",
       "      <td>0</td>\n",
       "    </tr>\n",
       "    <tr>\n",
       "      <th>2</th>\n",
       "      <td>ISIC_0052212</td>\n",
       "      <td>IP_2842074</td>\n",
       "      <td>female</td>\n",
       "      <td>50.0</td>\n",
       "      <td>lower extremity</td>\n",
       "      <td>nevus</td>\n",
       "      <td>benign</td>\n",
       "      <td>0</td>\n",
       "    </tr>\n",
       "    <tr>\n",
       "      <th>3</th>\n",
       "      <td>ISIC_0068279</td>\n",
       "      <td>IP_6890425</td>\n",
       "      <td>female</td>\n",
       "      <td>45.0</td>\n",
       "      <td>head/neck</td>\n",
       "      <td>unknown</td>\n",
       "      <td>benign</td>\n",
       "      <td>0</td>\n",
       "    </tr>\n",
       "    <tr>\n",
       "      <th>4</th>\n",
       "      <td>ISIC_0074268</td>\n",
       "      <td>IP_8723313</td>\n",
       "      <td>female</td>\n",
       "      <td>55.0</td>\n",
       "      <td>upper extremity</td>\n",
       "      <td>unknown</td>\n",
       "      <td>benign</td>\n",
       "      <td>0</td>\n",
       "    </tr>\n",
       "  </tbody>\n",
       "</table>\n",
       "</div>"
      ],
      "text/plain": [
       "     image_name  patient_id     sex  age_approx anatom_site_general_challenge  \\\n",
       "0  ISIC_2637011  IP_7279968    male        45.0                     head/neck   \n",
       "1  ISIC_0015719  IP_3075186  female        45.0               upper extremity   \n",
       "2  ISIC_0052212  IP_2842074  female        50.0               lower extremity   \n",
       "3  ISIC_0068279  IP_6890425  female        45.0                     head/neck   \n",
       "4  ISIC_0074268  IP_8723313  female        55.0               upper extremity   \n",
       "\n",
       "  diagnosis benign_malignant  target  \n",
       "0   unknown           benign       0  \n",
       "1   unknown           benign       0  \n",
       "2     nevus           benign       0  \n",
       "3   unknown           benign       0  \n",
       "4   unknown           benign       0  "
      ]
     },
     "metadata": {},
     "output_type": "display_data"
    },
    {
     "name": "stdout",
     "output_type": "stream",
     "text": [
      "Test samples: 10982\n"
     ]
    },
    {
     "data": {
      "text/html": [
       "<div>\n",
       "<style scoped>\n",
       "    .dataframe tbody tr th:only-of-type {\n",
       "        vertical-align: middle;\n",
       "    }\n",
       "\n",
       "    .dataframe tbody tr th {\n",
       "        vertical-align: top;\n",
       "    }\n",
       "\n",
       "    .dataframe thead th {\n",
       "        text-align: right;\n",
       "    }\n",
       "</style>\n",
       "<table border=\"1\" class=\"dataframe\">\n",
       "  <thead>\n",
       "    <tr style=\"text-align: right;\">\n",
       "      <th></th>\n",
       "      <th>image_name</th>\n",
       "      <th>patient_id</th>\n",
       "      <th>sex</th>\n",
       "      <th>age_approx</th>\n",
       "      <th>anatom_site_general_challenge</th>\n",
       "    </tr>\n",
       "  </thead>\n",
       "  <tbody>\n",
       "    <tr>\n",
       "      <th>0</th>\n",
       "      <td>ISIC_0052060</td>\n",
       "      <td>IP_3579794</td>\n",
       "      <td>male</td>\n",
       "      <td>70.0</td>\n",
       "      <td>NaN</td>\n",
       "    </tr>\n",
       "    <tr>\n",
       "      <th>1</th>\n",
       "      <td>ISIC_0052349</td>\n",
       "      <td>IP_7782715</td>\n",
       "      <td>male</td>\n",
       "      <td>40.0</td>\n",
       "      <td>lower extremity</td>\n",
       "    </tr>\n",
       "    <tr>\n",
       "      <th>2</th>\n",
       "      <td>ISIC_0058510</td>\n",
       "      <td>IP_7960270</td>\n",
       "      <td>female</td>\n",
       "      <td>55.0</td>\n",
       "      <td>torso</td>\n",
       "    </tr>\n",
       "    <tr>\n",
       "      <th>3</th>\n",
       "      <td>ISIC_0073313</td>\n",
       "      <td>IP_6375035</td>\n",
       "      <td>female</td>\n",
       "      <td>50.0</td>\n",
       "      <td>torso</td>\n",
       "    </tr>\n",
       "    <tr>\n",
       "      <th>4</th>\n",
       "      <td>ISIC_0073502</td>\n",
       "      <td>IP_0589375</td>\n",
       "      <td>female</td>\n",
       "      <td>45.0</td>\n",
       "      <td>lower extremity</td>\n",
       "    </tr>\n",
       "  </tbody>\n",
       "</table>\n",
       "</div>"
      ],
      "text/plain": [
       "     image_name  patient_id     sex  age_approx anatom_site_general_challenge\n",
       "0  ISIC_0052060  IP_3579794    male        70.0                           NaN\n",
       "1  ISIC_0052349  IP_7782715    male        40.0               lower extremity\n",
       "2  ISIC_0058510  IP_7960270  female        55.0                         torso\n",
       "3  ISIC_0073313  IP_6375035  female        50.0                         torso\n",
       "4  ISIC_0073502  IP_0589375  female        45.0               lower extremity"
      ]
     },
     "metadata": {},
     "output_type": "display_data"
    },
    {
     "name": "stdout",
     "output_type": "stream",
     "text": [
      "GCS: train: 32692 test: 10305\n"
     ]
    },
    {
     "name": "stdout",
     "output_type": "stream",
     "text": [
      "GCS_2019: train: 25272\n"
     ]
    },
    {
     "name": "stdout",
     "output_type": "stream",
     "text": [
      "GCS_MALIGNANT: train: 3960\n"
     ]
    }
   ],
   "source": [
    "database_base_path = '/kaggle/input/siim-isic-melanoma-classification/'\n",
    "train = pd.read_csv(database_base_path + 'train.csv')\n",
    "test = pd.read_csv(database_base_path + 'test.csv')\n",
    "\n",
    "print('Train samples: %d' % len(train))\n",
    "display(train.head())\n",
    "print(f'Test samples: {len(test)}')\n",
    "display(test.head())\n",
    "\n",
    "GCS_PATH = KaggleDatasets().get_gcs_path(f\"melanoma-{config['HEIGHT']}x{config['WIDTH']}\")\n",
    "GCS_2019_PATH = KaggleDatasets().get_gcs_path(f\"isic2019-{config['HEIGHT']}x{config['WIDTH']}\")\n",
    "GCS_MALIGNANT_PATH = KaggleDatasets().get_gcs_path(f\"malignant-v2-{config['HEIGHT']}x{config['WIDTH']}\")\n",
    "\n",
    "print(f\"GCS: train: {count_data_items(tf.io.gfile.glob([GCS_PATH + '/train%.2i*.tfrec' % x for x in range(15)]))} test: {count_data_items(tf.io.gfile.glob([GCS_PATH + '/test%.2i*.tfrec' % x for x in range(15)]))}\")\n",
    "print(f\"GCS_2019: train: {count_data_items(tf.io.gfile.glob([GCS_2019_PATH + '/train%.2i*.tfrec' % x for x in range(30)]))}\")\n",
    "print(f\"GCS_MALIGNANT: train: {count_data_items(tf.io.gfile.glob([GCS_MALIGNANT_PATH + '/train%.2i*.tfrec' % x for x in range(60)]))}\")"
   ]
  },
  {
   "cell_type": "markdown",
   "execution_count": null,
   "metadata": {
    "papermill": {
     "duration": 0.008047,
     "end_time": "2020-08-17T21:26:21.578732",
     "exception": false,
     "start_time": "2020-08-17T21:26:21.570685",
     "status": "completed"
    },
    "tags": []
   },
   "source": [
    "# Augmentations"
   ]
  },
  {
   "cell_type": "code",
   "execution_count": 6,
   "metadata": {
    "_kg_hide-input": true,
    "execution": {
     "iopub.execute_input": "2020-08-17T21:26:21.620005Z",
     "iopub.status.busy": "2020-08-17T21:26:21.603732Z",
     "iopub.status.idle": "2020-08-17T21:26:21.651042Z",
     "shell.execute_reply": "2020-08-17T21:26:21.651573Z"
    },
    "papermill": {
     "duration": 0.064494,
     "end_time": "2020-08-17T21:26:21.651715",
     "exception": false,
     "start_time": "2020-08-17T21:26:21.587221",
     "status": "completed"
    },
    "tags": []
   },
   "outputs": [],
   "source": [
    "def data_augment(image):\n",
    "    p_rotation = tf.random.uniform([], 0, 1.0, dtype=tf.float32)\n",
    "    p_rotate = tf.random.uniform([], 0, 1.0, dtype=tf.float32)\n",
    "    p_cutout = tf.random.uniform([], 0, 1.0, dtype=tf.float32)\n",
    "    p_shear = tf.random.uniform([], 0, 1.0, dtype=tf.float32)\n",
    "    p_crop = tf.random.uniform([], 0, 1.0, dtype=tf.float32)\n",
    "    \n",
    "    \n",
    "    if p_shear > .2:\n",
    "        if p_shear > .6:\n",
    "            image = transform_shear(image, config['HEIGHT'], shear=20.)\n",
    "        else:\n",
    "            image = transform_shear(image, config['HEIGHT'], shear=-20.)\n",
    "    \n",
    "    if p_rotation > .2:\n",
    "        if p_rotation > .6:\n",
    "            image = transform_rotation(image, config['HEIGHT'], rotation=45.)\n",
    "        else:\n",
    "            image = transform_rotation(image, config['HEIGHT'], rotation=-45.)\n",
    "\n",
    "    if p_crop > .2:\n",
    "        image = data_augment_crop(image)\n",
    "\n",
    "    if p_rotate > .2:\n",
    "        image = data_augment_rotate(image)\n",
    "        \n",
    "    image = data_augment_spatial(image)\n",
    "    \n",
    "    image = tf.image.random_saturation(image, 0.7, 1.3)\n",
    "    image = tf.image.random_contrast(image, 0.8, 1.2)\n",
    "    image = tf.image.random_brightness(image, 0.1)\n",
    "    \n",
    "#     if p_cutout > .5:\n",
    "#         image = data_augment_cutout(image)\n",
    "    \n",
    "    return image\n",
    "\n",
    "\n",
    "def data_augment_tta(image):\n",
    "    p_rotation = tf.random.uniform([], 0, 1.0, dtype=tf.float32)\n",
    "    p_rotate = tf.random.uniform([], 0, 1.0, dtype=tf.float32)\n",
    "    p_crop = tf.random.uniform([], 0, 1.0, dtype=tf.float32)\n",
    "    \n",
    "    \n",
    "    if p_rotation > .2:\n",
    "        if p_rotation > .6:\n",
    "            image = transform_rotation(image, config['HEIGHT'], rotation=45.)\n",
    "        else:\n",
    "            image = transform_rotation(image, config['HEIGHT'], rotation=-45.)\n",
    "\n",
    "    if p_crop > .2:\n",
    "        image = data_augment_crop(image)\n",
    "\n",
    "    if p_rotate > .2:\n",
    "        image = data_augment_rotate(image)\n",
    "        \n",
    "    image = data_augment_spatial(image)\n",
    "    \n",
    "    image = tf.image.random_saturation(image, 0.7, 1.3)\n",
    "    image = tf.image.random_contrast(image, 0.8, 1.2)\n",
    "    image = tf.image.random_brightness(image, 0.1)\n",
    "    \n",
    "    return image\n",
    "\n",
    "\n",
    "def data_augment_spatial(image):\n",
    "    p_spatial = tf.random.uniform([], 0, 1.0, dtype=tf.float32)\n",
    "\n",
    "    image = tf.image.random_flip_left_right(image)\n",
    "    image = tf.image.random_flip_up_down(image)\n",
    "    if p_spatial > .75:\n",
    "        image = tf.image.transpose(image)\n",
    "\n",
    "    return image\n",
    "\n",
    "def data_augment_rotate(image):\n",
    "    p_rotate = tf.random.uniform([], 0, 1.0, dtype=tf.float32)\n",
    "    \n",
    "    if p_rotate > .66:\n",
    "        image = tf.image.rot90(image, k=3) # rotate 270º\n",
    "    elif p_rotate > .33:\n",
    "        image = tf.image.rot90(image, k=2) # rotate 180º\n",
    "    else:\n",
    "        image = tf.image.rot90(image, k=1) # rotate 90º\n",
    "\n",
    "    return image\n",
    "\n",
    "def data_augment_crop(image):\n",
    "    p_crop = tf.random.uniform([], 0, 1.0, dtype=tf.float32)\n",
    "    crop_size = tf.random.uniform([], int(config['HEIGHT']*.7), config['HEIGHT'], dtype=tf.int32)\n",
    "    \n",
    "    if p_crop > .5:\n",
    "        image = tf.image.random_crop(image, size=[crop_size, crop_size, config['CHANNELS']])\n",
    "    else:\n",
    "        if p_crop > .4:\n",
    "            image = tf.image.central_crop(image, central_fraction=.7)\n",
    "        elif p_crop > .2:\n",
    "            image = tf.image.central_crop(image, central_fraction=.8)\n",
    "        else:\n",
    "            image = tf.image.central_crop(image, central_fraction=.9)\n",
    "    \n",
    "    image = tf.image.resize(image, size=[config['HEIGHT'], config['WIDTH']])\n",
    "\n",
    "    return image\n",
    "\n",
    "def data_augment_cutout(image, min_mask_size=(int(config['HEIGHT'] * .1), int(config['HEIGHT'] * .1)), \n",
    "                        max_mask_size=(int(config['HEIGHT'] * .125), int(config['HEIGHT'] * .125))):\n",
    "    p_cutout = tf.random.uniform([], 0, 1.0, dtype=tf.float32)\n",
    "    \n",
    "    if p_cutout > .85: # 10~15 cut outs\n",
    "        n_cutout = tf.random.uniform([], 10, 15, dtype=tf.int32)\n",
    "        image = random_cutout(image, config['HEIGHT'], config['WIDTH'], \n",
    "                              min_mask_size=min_mask_size, max_mask_size=max_mask_size, k=n_cutout)\n",
    "    elif p_cutout > .6: # 5~10 cut outs\n",
    "        n_cutout = tf.random.uniform([], 5, 10, dtype=tf.int32)\n",
    "        image = random_cutout(image, config['HEIGHT'], config['WIDTH'], \n",
    "                              min_mask_size=min_mask_size, max_mask_size=max_mask_size, k=n_cutout)\n",
    "    elif p_cutout > .25: # 2~5 cut outs\n",
    "        n_cutout = tf.random.uniform([], 2, 5, dtype=tf.int32)\n",
    "        image = random_cutout(image, config['HEIGHT'], config['WIDTH'], \n",
    "                              min_mask_size=min_mask_size, max_mask_size=max_mask_size, k=n_cutout)\n",
    "    else: # 1 cut out\n",
    "        image = random_cutout(image, config['HEIGHT'], config['WIDTH'], \n",
    "                              min_mask_size=min_mask_size, max_mask_size=max_mask_size, k=1)\n",
    "\n",
    "    return image\n",
    "\n",
    "\n",
    "def mixup(image, label, alpha=0.4, height=config['HEIGHT_RS'], width=config['WIDTH_RS'], \n",
    "          channels=3, batch_size=config['BATCH_SIZE'], classes=1):\n",
    "    # input image - is a batch of images of size [batch_size, height, width, channels] not a single image of [height, width, channels]\n",
    "    # output - a batch of images with mixup applied\n",
    "    \n",
    "    imgs = []; labs = []\n",
    "    dist = tfp.distributions.Beta(alpha, alpha).sample(batch_size) # Beta distribution\n",
    "    for j in range(batch_size):\n",
    "        # random chose images\n",
    "        k = tf.cast(tf.random.uniform([], 0, batch_size), tf.int32)\n",
    "        lam = dist[j] # Lambda for this sample\n",
    "        \n",
    "        # MixUp image\n",
    "        img1 = image[j,]\n",
    "        img2 = image[k,]\n",
    "        imgs.append((1-lam)*img1 + lam*img2)\n",
    "        # MixUp label\n",
    "        if classes > 1: # multi-class\n",
    "            lab1 = tf.one_hot(label[j], classes)\n",
    "            lab2 = tf.one_hot(label[k], classes)\n",
    "        else:           # binary\n",
    "            lab1 = label[j,]\n",
    "            lab2 = label[k,]\n",
    "        labs.append((1-lam)*lab1 + lam*lab2)\n",
    "            \n",
    "    # RESHAPE HACK SO TPU COMPILER KNOWS SHAPE OF OUTPUT TENSOR\n",
    "    image2 = tf.reshape(tf.stack(imgs), (batch_size, height, width, 3))\n",
    "    label2 = tf.reshape(tf.stack(labs), (batch_size, classes))\n",
    "\n",
    "    return image2, label2"
   ]
  },
  {
   "cell_type": "markdown",
   "execution_count": null,
   "metadata": {
    "papermill": {
     "duration": 0.00799,
     "end_time": "2020-08-17T21:26:21.667917",
     "exception": false,
     "start_time": "2020-08-17T21:26:21.659927",
     "status": "completed"
    },
    "tags": []
   },
   "source": [
    "## Auxiliary functions"
   ]
  },
  {
   "cell_type": "code",
   "execution_count": 7,
   "metadata": {
    "_kg_hide-input": true,
    "execution": {
     "iopub.execute_input": "2020-08-17T21:26:21.707304Z",
     "iopub.status.busy": "2020-08-17T21:26:21.697021Z",
     "iopub.status.idle": "2020-08-17T21:26:21.717014Z",
     "shell.execute_reply": "2020-08-17T21:26:21.716511Z"
    },
    "papermill": {
     "duration": 0.041301,
     "end_time": "2020-08-17T21:26:21.717109",
     "exception": false,
     "start_time": "2020-08-17T21:26:21.675808",
     "status": "completed"
    },
    "tags": []
   },
   "outputs": [],
   "source": [
    "def read_labeled_tfrecord(example):\n",
    "    tfrec_format = {\n",
    "        'image'                        : tf.io.FixedLenFeature([], tf.string),\n",
    "        'image_name'                   : tf.io.FixedLenFeature([], tf.string),\n",
    "        'sex'                          : tf.io.FixedLenFeature([], tf.int64),\n",
    "        'age_approx'                   : tf.io.FixedLenFeature([], tf.int64),\n",
    "        'target'                       : tf.io.FixedLenFeature([], tf.int64)\n",
    "    }           \n",
    "    example = tf.io.parse_single_example(example, tfrec_format)\n",
    "#     return example['image'], example['target']\n",
    "    label = tf.cast(example['target'], tf.float32) # for MixUp\n",
    "    return example['image'], label\n",
    "\n",
    "def read_unlabeled_tfrecord(example, return_image_name):\n",
    "    tfrec_format = {\n",
    "        'image'                        : tf.io.FixedLenFeature([], tf.string),\n",
    "        'image_name'                   : tf.io.FixedLenFeature([], tf.string),\n",
    "    }\n",
    "    example = tf.io.parse_single_example(example, tfrec_format)\n",
    "    return example['image'], example['image_name'] if return_image_name else 0\n",
    " \n",
    "def prepare_image(img, augment=None, dim=256):    \n",
    "    img = tf.image.decode_jpeg(img, channels=3)\n",
    "    img = tf.cast(img, tf.float32) / 255.0\n",
    "    \n",
    "    if augment:\n",
    "        img = augment(img)\n",
    "                      \n",
    "    img = tf.image.resize(img, [config['HEIGHT_RS'], config['WIDTH_RS']])\n",
    "    img = tf.reshape(img, [config['HEIGHT_RS'], config['WIDTH_RS'], 3])\n",
    "    # img = tf.reshape(img, [dim, dim, 3])\n",
    "            \n",
    "    return img\n",
    "\n",
    "def get_dataset(files, augment=None, shuffle=False, repeat=False, \n",
    "                labeled=True, return_image_names=True, batch_size=16, dim=256):\n",
    "    \n",
    "    ds = tf.data.TFRecordDataset(files, num_parallel_reads=AUTO)\n",
    "    ds = ds.cache()\n",
    "    \n",
    "    if repeat:\n",
    "        ds = ds.repeat()\n",
    "    \n",
    "    if shuffle: \n",
    "        ds = ds.shuffle(1024*8)\n",
    "        opt = tf.data.Options()\n",
    "        opt.experimental_deterministic = False\n",
    "        ds = ds.with_options(opt)\n",
    "        \n",
    "    if labeled: \n",
    "        ds = ds.map(read_labeled_tfrecord, num_parallel_calls=AUTO)\n",
    "    else:\n",
    "        ds = ds.map(lambda example: read_unlabeled_tfrecord(example, return_image_names), \n",
    "                    num_parallel_calls=AUTO)      \n",
    "    \n",
    "    ds = ds.map(lambda img, imgname_or_label: (prepare_image(img, augment=augment, dim=dim), \n",
    "                                               imgname_or_label), num_parallel_calls=AUTO)\n",
    "    \n",
    "    ds = ds.batch(batch_size * REPLICAS)\n",
    "    ds = ds.prefetch(AUTO)\n",
    "    return ds\n",
    "\n",
    "\n",
    "def get_dataset_sampling(files, augment=None, shuffle=False, repeat=False, \n",
    "                         labeled=True, return_image_names=True, batch_size=16, dim=256):\n",
    "    \n",
    "    ds = tf.data.TFRecordDataset(files, num_parallel_reads=AUTO)\n",
    "    ds = ds.cache()\n",
    "    \n",
    "    if repeat:\n",
    "        ds = ds.repeat()\n",
    "    \n",
    "    if shuffle: \n",
    "        ds = ds.shuffle(1024*8)\n",
    "        opt = tf.data.Options()\n",
    "        opt.experimental_deterministic = False\n",
    "        ds = ds.with_options(opt)\n",
    "        \n",
    "    if labeled: \n",
    "        ds = ds.map(read_labeled_tfrecord, num_parallel_calls=AUTO)\n",
    "    else:\n",
    "        ds = ds.map(lambda example: read_unlabeled_tfrecord(example, return_image_names), \n",
    "                    num_parallel_calls=AUTO)      \n",
    "    \n",
    "    ds = ds.map(lambda img, imgname_or_label: (prepare_image(img, augment=augment, dim=dim), \n",
    "                                               imgname_or_label), num_parallel_calls=AUTO)\n",
    "    \n",
    "    return ds\n",
    "\n",
    "def count_data_items(filenames):\n",
    "    n = [int(re.compile(r\"-([0-9]*)\\.\").search(filename).group(1)) \n",
    "         for filename in filenames]\n",
    "    return np.sum(n)"
   ]
  },
  {
   "cell_type": "markdown",
   "execution_count": null,
   "metadata": {
    "papermill": {
     "duration": 0.009493,
     "end_time": "2020-08-17T21:26:21.735573",
     "exception": false,
     "start_time": "2020-08-17T21:26:21.726080",
     "status": "completed"
    },
    "tags": []
   },
   "source": [
    "## Learning rate scheduler"
   ]
  },
  {
   "cell_type": "code",
   "execution_count": 8,
   "metadata": {
    "_kg_hide-input": true,
    "execution": {
     "iopub.execute_input": "2020-08-17T21:26:25.141714Z",
     "iopub.status.busy": "2020-08-17T21:26:25.140757Z",
     "iopub.status.idle": "2020-08-17T21:26:25.872599Z",
     "shell.execute_reply": "2020-08-17T21:26:25.873133Z"
    },
    "papermill": {
     "duration": 4.127951,
     "end_time": "2020-08-17T21:26:25.873316",
     "exception": false,
     "start_time": "2020-08-17T21:26:21.745365",
     "status": "completed"
    },
    "tags": []
   },
   "outputs": [
    {
     "name": "stdout",
     "output_type": "stream",
     "text": [
      "110 total epochs and 47 steps per epoch\n",
      "Learning rate schedule: 5e-06 to 0.000156 to 1e-06\n"
     ]
    },
    {
     "data": {
      "image/png": "[encoded data removed]",
      "text/plain": [
       "<Figure size 1440x432 with 1 Axes>"
      ]
     },
     "metadata": {},
     "output_type": "display_data"
    }
   ],
   "source": [
    "# Cosine schedule\n",
    "def cosine_with_hard_restarts_schedule_with_warmup(epoch):\n",
    "    \"\"\" Create a schedule with a learning rate that decreases following the\n",
    "    values of the cosine function with several hard restarts, after a warmup\n",
    "    period during which it increases linearly between 0 and 1.\n",
    "    \"\"\"\n",
    "    lr_start   = 5e-6\n",
    "    lr_max     = config['LEARNING_RATE']\n",
    "    lr_min     = 1e-6\n",
    "    warmup_epochs = 10\n",
    "    num_cycles = 5.\n",
    "    total_epochs = config['EPOCHS']\n",
    "    \n",
    "    if epoch < warmup_epochs:\n",
    "        lr = (lr_max - lr_start) / warmup_epochs * epoch + lr_start\n",
    "    else:\n",
    "        progress = (epoch - warmup_epochs) / (total_epochs - warmup_epochs)\n",
    "        lr = lr_max * (0.5 * (1.0 + tf.math.cos(math.pi * ((num_cycles * progress) % 1.0))))\n",
    "        if lr_min is not None:\n",
    "            lr = tf.math.maximum(lr_min, lr)\n",
    "\n",
    "    return lr\n",
    "\n",
    "def get_lr_callback():\n",
    "    lr_callback = tf.keras.callbacks.LearningRateScheduler(cosine_with_hard_restarts_schedule_with_warmup, verbose=False)\n",
    "    return lr_callback\n",
    "\n",
    "total_epochs = config['EPOCHS']\n",
    "steps_per_epoch = 47\n",
    "rng = [i for i in range(0, total_epochs)]\n",
    "y = [cosine_with_hard_restarts_schedule_with_warmup(x) for x in rng]\n",
    "\n",
    "sns.set(style=\"whitegrid\")\n",
    "fig, ax = plt.subplots(figsize=(20, 6))\n",
    "plt.plot(rng, y)\n",
    "print(f'{total_epochs} total epochs and {steps_per_epoch} steps per epoch')\n",
    "print(f'Learning rate schedule: {y[0]:.3g} to { max(y):.3g} to { y[-1]:.3g}')"
   ]
  },
  {
   "cell_type": "markdown",
   "execution_count": null,
   "metadata": {
    "papermill": {
     "duration": 0.016843,
     "end_time": "2020-08-17T21:26:25.906504",
     "exception": false,
     "start_time": "2020-08-17T21:26:25.889661",
     "status": "completed"
    },
    "tags": []
   },
   "source": [
    "# Model"
   ]
  },
  {
   "cell_type": "code",
   "execution_count": 9,
   "metadata": {
    "execution": {
     "iopub.execute_input": "2020-08-17T21:26:25.958112Z",
     "iopub.status.busy": "2020-08-17T21:26:25.957272Z",
     "iopub.status.idle": "2020-08-17T21:26:25.963268Z",
     "shell.execute_reply": "2020-08-17T21:26:25.964015Z"
    },
    "papermill": {
     "duration": 0.041182,
     "end_time": "2020-08-17T21:26:25.964252",
     "exception": false,
     "start_time": "2020-08-17T21:26:25.923070",
     "status": "completed"
    },
    "tags": []
   },
   "outputs": [],
   "source": [
    "def unfreeze_model(model):\n",
    "    # Unfreeze layers while leaving BatchNorm layers frozen\n",
    "    for layer in model.layers:\n",
    "        layer.trainable = True\n",
    "#         if not isinstance(layer, layers.BatchNormalization):\n",
    "#             layer.trainable = True\n",
    "#         else:\n",
    "#             layer.trainable = False\n",
    "\n",
    "\n",
    "    opt = optimizers.Adam(learning_rate=config['LEARNING_RATE'])\n",
    "    loss = losses.BinaryCrossentropy()\n",
    "    model.compile(optimizer=opt, loss=loss, metrics=['AUC'])\n",
    "\n",
    "    \n",
    "def model_fn(input_shape=(256, 256, 3)):\n",
    "    input_image = L.Input(shape=input_shape, name='input_image')\n",
    "    base_model = efn.EfficientNetB0(input_tensor=input_image, \n",
    "                                    weights=config['BASE_MODEL_WEIGHTS'], \n",
    "                                    include_top=False, \n",
    "                                    drop_connect_rate=0.2)\n",
    "#     base_model.trainable = False\n",
    "    \n",
    "    x = L.GlobalAveragePooling2D()(base_model.output)\n",
    "#     x = L.Dropout(0.2)(x)\n",
    "    output = L.Dense(1, activation='sigmoid', kernel_initializer='zeros', name='output')(x)\n",
    "\n",
    "    model = Model(inputs=input_image, outputs=output)\n",
    "    \n",
    "    \n",
    "#     opt = optimizers.Adam(learning_rate=config['LEARNING_RATE'])\n",
    "    opt = optimizers.Adam(learning_rate=1e-3)\n",
    "    loss = losses.BinaryCrossentropy()\n",
    "    model.compile(optimizer=opt, loss=loss, metrics=['AUC'])\n",
    "\n",
    "    return model"
   ]
  },
  {
   "cell_type": "markdown",
   "execution_count": null,
   "metadata": {
    "papermill": {
     "duration": 0.014448,
     "end_time": "2020-08-17T21:26:25.993264",
     "exception": false,
     "start_time": "2020-08-17T21:26:25.978816",
     "status": "completed"
    },
    "tags": []
   },
   "source": [
    "# Training"
   ]
  },
  {
   "cell_type": "code",
   "execution_count": 10,
   "metadata": {
    "_kg_hide-input": true,
    "_kg_hide-output": true,
    "execution": {
     "iopub.execute_input": "2020-08-17T21:26:26.057131Z",
     "iopub.status.busy": "2020-08-17T21:26:26.034474Z"
    },
    "papermill": {
     "duration": null,
     "end_time": null,
     "exception": false,
     "start_time": "2020-08-17T21:26:26.007450",
     "status": "running"
    },
    "tags": []
   },
   "outputs": [
    {
     "name": "stdout",
     "output_type": "stream",
     "text": [
      "\n",
      "FOLD: 1\n",
      "TRAIN: [ 1  2  3  4  5  6  7  8 10 12 13 14] VALID: [ 0  9 11]\n"
     ]
    },
    {
     "name": "stdout",
     "output_type": "stream",
     "text": [
      "Downloading data from https://github.com/qubvel/efficientnet/releases/download/v0.0.1/efficientnet-b0_noisy-student_notop.h5\n"
     ]
    },
    {
     "name": "stdout",
     "output_type": "stream",
     "text": [
      "\r",
      "    8192/16696600 [..............................] - ETA: 0s"
     ]
    },
    {
     "name": "stdout",
     "output_type": "stream",
     "text": [
      "\b\b\b\b\b\b\b\b\b\b\b\b\b\b\b\b\b\b\b\b\b\b\b\b\b\b\b\b\b\b\b\b\b\b\b\b\b\b\b\b\b\b\b\b\b\b\b\b\b\b\b\b\b\b\b\b\b\b\b\b\r",
      "   57344/16696600 [..............................] - ETA: 16s"
     ]
    },
    {
     "name": "stdout",
     "output_type": "stream",
     "text": [
      "\b\b\b\b\b\b\b\b\b\b\b\b\b\b\b\b\b\b\b\b\b\b\b\b\b\b\b\b\b\b\b\b\b\b\b\b\b\b\b\b\b\b\b\b\b\b\b\b\b\b\b\b\b\b\b\b\b\b\b\b\b\r",
      "  196608/16696600 [..............................] - ETA: 9s "
     ]
    },
    {
     "name": "stdout",
     "output_type": "stream",
     "text": [
      "\b\b\b\b\b\b\b\b\b\b\b\b\b\b\b\b\b\b\b\b\b\b\b\b\b\b\b\b\b\b\b\b\b\b\b\b\b\b\b\b\b\b\b\b\b\b\b\b\b\b\b\b\b\b\b\b\b\b\b\b\r",
      "  876544/16696600 [>.............................] - ETA: 3s"
     ]
    },
    {
     "name": "stdout",
     "output_type": "stream",
     "text": [
      "\b\b\b\b\b\b\b\b\b\b\b\b\b\b\b\b\b\b\b\b\b\b\b\b\b\b\b\b\b\b\b\b\b\b\b\b\b\b\b\b\b\b\b\b\b\b\b\b\b\b\b\b\b\b\b\b\b\b\b\b\r",
      " 3514368/16696600 [=====>........................] - ETA: 0s"
     ]
    },
    {
     "name": "stdout",
     "output_type": "stream",
     "text": [
      "\b\b\b\b\b\b\b\b\b\b\b\b\b\b\b\b\b\b\b\b\b\b\b\b\b\b\b\b\b\b\b\b\b\b\b\b\b\b\b\b\b\b\b\b\b\b\b\b\b\b\b\b\b\b\b\b\b\b\b\b\r",
      " 8970240/16696600 [===============>..............] - ETA: 0s"
     ]
    },
    {
     "name": "stdout",
     "output_type": "stream",
     "text": [
      "\b\b\b\b\b\b\b\b\b\b\b\b\b\b\b\b\b\b\b\b\b\b\b\b\b\b\b\b\b\b\b\b\b\b\b\b\b\b\b\b\b\b\b\b\b\b\b\b\b\b\b\b\b\b\b\b\b\b\b\b\r",
      "14376960/16696600 [========================>.....] - ETA: 0s"
     ]
    },
    {
     "name": "stdout",
     "output_type": "stream",
     "text": [
      "\b\b\b\b\b\b\b\b\b\b\b\b\b\b\b\b\b\b\b\b\b\b\b\b\b\b\b\b\b\b\b\b\b\b\b\b\b\b\b\b\b\b\b\b\b\b\b\b\b\b\b\b\b\b\b\b\b\b\b\b\r",
      "16703488/16696600 [==============================] - 0s 0us/step\n"
     ]
    },
    {
     "name": "stdout",
     "output_type": "stream",
     "text": [
      "Epoch 1/110\n"
     ]
    },
    {
     "name": "stdout",
     "output_type": "stream",
     "text": [
      "47/47 - 20s - loss: 0.6925 - auc: 0.5090 - val_loss: 0.6916 - val_auc: 0.4874 - lr: 5.0000e-06\n"
     ]
    },
    {
     "name": "stdout",
     "output_type": "stream",
     "text": [
      "Epoch 2/110\n"
     ]
    },
    {
     "name": "stdout",
     "output_type": "stream",
     "text": [
      "47/47 - 18s - loss: 0.6834 - auc: 0.6532 - val_loss: 0.6626 - val_auc: 0.4576 - lr: 2.0125e-05\n"
     ]
    },
    {
     "name": "stdout",
     "output_type": "stream",
     "text": [
      "Epoch 3/110\n"
     ]
    },
    {
     "name": "stdout",
     "output_type": "stream",
     "text": [
      "47/47 - 17s - loss: 0.6291 - auc: 0.7151 - val_loss: 0.4865 - val_auc: 0.5554 - lr: 3.5250e-05\n"
     ]
    },
    {
     "name": "stdout",
     "output_type": "stream",
     "text": [
      "Epoch 4/110\n"
     ]
    },
    {
     "name": "stdout",
     "output_type": "stream",
     "text": [
      "47/47 - 17s - loss: 0.5316 - auc: 0.7777 - val_loss: 0.2669 - val_auc: 0.6281 - lr: 5.0375e-05\n"
     ]
    },
    {
     "name": "stdout",
     "output_type": "stream",
     "text": [
      "Epoch 5/110\n"
     ]
    },
    {
     "name": "stdout",
     "output_type": "stream",
     "text": [
      "47/47 - 18s - loss: 0.5214 - auc: 0.7711 - val_loss: 0.1788 - val_auc: 0.6947 - lr: 6.5500e-05\n"
     ]
    },
    {
     "name": "stdout",
     "output_type": "stream",
     "text": [
      "Epoch 6/110\n"
     ]
    },
    {
     "name": "stdout",
     "output_type": "stream",
     "text": [
      "47/47 - 17s - loss: 0.4944 - auc: 0.7835 - val_loss: 0.1852 - val_auc: 0.8062 - lr: 8.0625e-05\n"
     ]
    },
    {
     "name": "stdout",
     "output_type": "stream",
     "text": [
      "Epoch 7/110\n"
     ]
    },
    {
     "name": "stdout",
     "output_type": "stream",
     "text": [
      "47/47 - 17s - loss: 0.5069 - auc: 0.7603 - val_loss: 0.2234 - val_auc: 0.8165 - lr: 9.5750e-05\n"
     ]
    },
    {
     "name": "stdout",
     "output_type": "stream",
     "text": [
      "Epoch 8/110\n"
     ]
    },
    {
     "name": "stdout",
     "output_type": "stream",
     "text": [
      "47/47 - 17s - loss: 0.4640 - auc: 0.8166 - val_loss: 0.2132 - val_auc: 0.8420 - lr: 1.1088e-04\n"
     ]
    },
    {
     "name": "stdout",
     "output_type": "stream",
     "text": [
      "Epoch 9/110\n"
     ]
    },
    {
     "name": "stdout",
     "output_type": "stream",
     "text": [
      "47/47 - 18s - loss: 0.4976 - auc: 0.7675 - val_loss: 0.2172 - val_auc: 0.8561 - lr: 1.2600e-04\n"
     ]
    },
    {
     "name": "stdout",
     "output_type": "stream",
     "text": [
      "Epoch 10/110\n"
     ]
    },
    {
     "name": "stdout",
     "output_type": "stream",
     "text": [
      "47/47 - 17s - loss: 0.4599 - auc: 0.7825 - val_loss: 0.1768 - val_auc: 0.8562 - lr: 1.4112e-04\n"
     ]
    },
    {
     "name": "stdout",
     "output_type": "stream",
     "text": [
      "Epoch 11/110\n"
     ]
    },
    {
     "name": "stdout",
     "output_type": "stream",
     "text": [
      "47/47 - 17s - loss: 0.4773 - auc: 0.7874 - val_loss: 0.2285 - val_auc: 0.8470 - lr: 1.5625e-04\n"
     ]
    },
    {
     "name": "stdout",
     "output_type": "stream",
     "text": [
      "Epoch 12/110\n"
     ]
    },
    {
     "name": "stdout",
     "output_type": "stream",
     "text": [
      "47/47 - 18s - loss: 0.4707 - auc: 0.7982 - val_loss: 0.2138 - val_auc: 0.8521 - lr: 1.5529e-04\n"
     ]
    },
    {
     "name": "stdout",
     "output_type": "stream",
     "text": [
      "Epoch 13/110\n"
     ]
    },
    {
     "name": "stdout",
     "output_type": "stream",
     "text": [
      "47/47 - 17s - loss: 0.4620 - auc: 0.7850 - val_loss: 0.1816 - val_auc: 0.8484 - lr: 1.5243e-04\n"
     ]
    },
    {
     "name": "stdout",
     "output_type": "stream",
     "text": [
      "Epoch 14/110\n"
     ]
    },
    {
     "name": "stdout",
     "output_type": "stream",
     "text": [
      "47/47 - 17s - loss: 0.4487 - auc: 0.7981 - val_loss: 0.2252 - val_auc: 0.8543 - lr: 1.4773e-04\n"
     ]
    },
    {
     "name": "stdout",
     "output_type": "stream",
     "text": [
      "Epoch 15/110\n"
     ]
    },
    {
     "name": "stdout",
     "output_type": "stream",
     "text": [
      "47/47 - 17s - loss: 0.4444 - auc: 0.8124 - val_loss: 0.1899 - val_auc: 0.8461 - lr: 1.4133e-04\n"
     ]
    },
    {
     "name": "stdout",
     "output_type": "stream",
     "text": [
      "Epoch 16/110\n"
     ]
    },
    {
     "name": "stdout",
     "output_type": "stream",
     "text": [
      "47/47 - 18s - loss: 0.4911 - auc: 0.7592 - val_loss: 0.1983 - val_auc: 0.8523 - lr: 1.3337e-04\n"
     ]
    },
    {
     "name": "stdout",
     "output_type": "stream",
     "text": [
      "Epoch 17/110\n"
     ]
    },
    {
     "name": "stdout",
     "output_type": "stream",
     "text": [
      "47/47 - 17s - loss: 0.4731 - auc: 0.7696 - val_loss: 0.1758 - val_auc: 0.8600 - lr: 1.2405e-04\n"
     ]
    },
    {
     "name": "stdout",
     "output_type": "stream",
     "text": [
      "Epoch 18/110\n"
     ]
    },
    {
     "name": "stdout",
     "output_type": "stream",
     "text": [
      "47/47 - 17s - loss: 0.4688 - auc: 0.7762 - val_loss: 0.1495 - val_auc: 0.8419 - lr: 1.1359e-04\n"
     ]
    },
    {
     "name": "stdout",
     "output_type": "stream",
     "text": [
      "Epoch 19/110\n"
     ]
    },
    {
     "name": "stdout",
     "output_type": "stream",
     "text": [
      "47/47 - 19s - loss: 0.4356 - auc: 0.8026 - val_loss: 0.1610 - val_auc: 0.8607 - lr: 1.0227e-04\n"
     ]
    },
    {
     "name": "stdout",
     "output_type": "stream",
     "text": [
      "Epoch 20/110\n"
     ]
    },
    {
     "name": "stdout",
     "output_type": "stream",
     "text": [
      "47/47 - 17s - loss: 0.4807 - auc: 0.7856 - val_loss: 0.2328 - val_auc: 0.8563 - lr: 9.0346e-05\n"
     ]
    },
    {
     "name": "stdout",
     "output_type": "stream",
     "text": [
      "Epoch 21/110\n"
     ]
    },
    {
     "name": "stdout",
     "output_type": "stream",
     "text": [
      "47/47 - 17s - loss: 0.4413 - auc: 0.7945 - val_loss: 0.2051 - val_auc: 0.8417 - lr: 7.8125e-05\n"
     ]
    },
    {
     "name": "stdout",
     "output_type": "stream",
     "text": [
      "Epoch 22/110\n"
     ]
    },
    {
     "name": "stdout",
     "output_type": "stream",
     "text": [
      "47/47 - 18s - loss: 0.4438 - auc: 0.7947 - val_loss: 0.1923 - val_auc: 0.8497 - lr: 6.5904e-05\n"
     ]
    },
    {
     "name": "stdout",
     "output_type": "stream",
     "text": [
      "Epoch 23/110\n"
     ]
    },
    {
     "name": "stdout",
     "output_type": "stream",
     "text": [
      "47/47 - 17s - loss: 0.4339 - auc: 0.8117 - val_loss: 0.1676 - val_auc: 0.8580 - lr: 5.3983e-05\n"
     ]
    },
    {
     "name": "stdout",
     "output_type": "stream",
     "text": [
      "Epoch 24/110\n"
     ]
    },
    {
     "name": "stdout",
     "output_type": "stream",
     "text": [
      "47/47 - 17s - loss: 0.4588 - auc: 0.7671 - val_loss: 0.1923 - val_auc: 0.8592 - lr: 4.2657e-05\n"
     ]
    },
    {
     "name": "stdout",
     "output_type": "stream",
     "text": [
      "Epoch 25/110\n"
     ]
    },
    {
     "name": "stdout",
     "output_type": "stream",
     "text": [
      "47/47 - 17s - loss: 0.4672 - auc: 0.7833 - val_loss: 0.1750 - val_auc: 0.8546 - lr: 3.2204e-05\n"
     ]
    },
    {
     "name": "stdout",
     "output_type": "stream",
     "text": [
      "Epoch 26/110\n"
     ]
    },
    {
     "name": "stdout",
     "output_type": "stream",
     "text": [
      "47/47 - 18s - loss: 0.4657 - auc: 0.7556 - val_loss: 0.1681 - val_auc: 0.8541 - lr: 2.2882e-05\n"
     ]
    },
    {
     "name": "stdout",
     "output_type": "stream",
     "text": [
      "Epoch 27/110\n"
     ]
    },
    {
     "name": "stdout",
     "output_type": "stream",
     "text": [
      "47/47 - 17s - loss: 0.4571 - auc: 0.8019 - val_loss: 0.1659 - val_auc: 0.8537 - lr: 1.4921e-05\n"
     ]
    },
    {
     "name": "stdout",
     "output_type": "stream",
     "text": [
      "Epoch 28/110\n"
     ]
    },
    {
     "name": "stdout",
     "output_type": "stream",
     "text": [
      "47/47 - 17s - loss: 0.4198 - auc: 0.8356 - val_loss: 0.1693 - val_auc: 0.8538 - lr: 8.5151e-06\n"
     ]
    },
    {
     "name": "stdout",
     "output_type": "stream",
     "text": [
      "Epoch 29/110\n"
     ]
    },
    {
     "name": "stdout",
     "output_type": "stream",
     "text": [
      "Restoring model weights from the end of the best epoch.\n",
      "47/47 - 18s - loss: 0.4202 - auc: 0.8069 - val_loss: 0.1688 - val_auc: 0.8543 - lr: 3.8237e-06\n"
     ]
    },
    {
     "name": "stdout",
     "output_type": "stream",
     "text": [
      "Epoch 00029: early stopping\n"
     ]
    },
    {
     "name": "stdout",
     "output_type": "stream",
     "text": [
      "Predicting OOF with TTA...\n"
     ]
    },
    {
     "name": "stdout",
     "output_type": "stream",
     "text": [
      "511/510 - 136s\n"
     ]
    }
   ],
   "source": [
    "skf = KFold(n_splits=config['N_USED_FOLDS'], shuffle=True, random_state=SEED)\n",
    "oof_pred = []; oof_tar = []; oof_val = []; oof_names = []; oof_folds = []; history_list = []\n",
    "preds = np.zeros((len(test), 1))\n",
    "\n",
    "for fold,(idxT, idxV) in enumerate(skf.split(np.arange(15))):\n",
    "    if tpu: tf.tpu.experimental.initialize_tpu_system(tpu)\n",
    "    print(f'\\nFOLD: {fold+1}')\n",
    "    print(f'TRAIN: {idxT} VALID: {idxV}')\n",
    "\n",
    "    # CREATE TRAIN AND VALIDATION SUBSETS\n",
    "    TRAINING_FILENAMES = tf.io.gfile.glob([GCS_PATH + '/train%.2i*.tfrec' % x for x in idxT])\n",
    "    # Add external data\n",
    "    # TRAINING_FILENAMES += tf.io.gfile.glob([GCS_2019_PATH + '/train%.2i*.tfrec' % (x*2+1) for x in idxT]) # 2019 data\n",
    "    TRAINING_FILENAMES += tf.io.gfile.glob([GCS_2019_PATH + '/train%.2i*.tfrec' % (x*2) for x in idxT]) # 2018 data\n",
    "    # Add extra malignant data\n",
    "    TRAINING_MALIG_FILENAMES = tf.io.gfile.glob([GCS_MALIGNANT_PATH + '/train%.2i*.tfrec' % x for x in idxT]) # 2020 data\n",
    "    TRAINING_MALIG_FILENAMES += tf.io.gfile.glob([GCS_MALIGNANT_PATH + '/train%.2i*.tfrec' % ((x*2+1)+30) for x in idxT]) # 2019 data\n",
    "    TRAINING_MALIG_FILENAMES += tf.io.gfile.glob([GCS_MALIGNANT_PATH + '/train%.2i*.tfrec' % ((x*2)+30) for x in idxT]) # 2018 data\n",
    "    TRAINING_MALIG_FILENAMES += tf.io.gfile.glob([GCS_MALIGNANT_PATH + '/train%.2i*.tfrec' % (x+15) for x in idxT]) # new data\n",
    "\n",
    "    np.random.shuffle(TRAINING_FILENAMES)\n",
    "    np.random.shuffle(TRAINING_MALIG_FILENAMES)\n",
    "    ds_regular = get_dataset_sampling(TRAINING_FILENAMES, augment=data_augment, shuffle=True, repeat=True,\n",
    "                                      dim=config['HEIGHT'], batch_size=config['BATCH_SIZE'])\n",
    "    ds_malig = get_dataset_sampling(TRAINING_MALIG_FILENAMES, augment=data_augment, shuffle=True, repeat=True,\n",
    "                                    dim=config['HEIGHT'], batch_size=config['BATCH_SIZE'])\n",
    "    # Resampled TF Dataset\n",
    "    resampled_ds = tf.data.experimental.sample_from_datasets([ds_regular, ds_malig], weights=[0.6, 0.4])\n",
    "    # Add MixUp\n",
    "    resampled_ds = resampled_ds.batch(config['BATCH_SIZE']) # batch before augment\n",
    "    resampled_ds = resampled_ds.map(mixup, num_parallel_calls=AUTO)\n",
    "    resampled_ds = resampled_ds.unbatch().shuffle(1024*8) # unbatch to shuffle\n",
    "    resampled_ds = resampled_ds.batch(config['BATCH_SIZE'] * REPLICAS).prefetch(AUTO)\n",
    "\n",
    "    files_valid = tf.io.gfile.glob([GCS_PATH + '/train%.2i*.tfrec'%x for x in idxV])\n",
    "    TEST_FILENAMES = np.sort(np.array(tf.io.gfile.glob(GCS_PATH + '/test*.tfrec')))\n",
    "    ct_valid = count_data_items(files_valid)\n",
    "    ct_test = count_data_items(TEST_FILENAMES)\n",
    "    VALID_STEPS = config['TTA_STEPS'] * ct_valid/config['BATCH_SIZE']/4/REPLICAS\n",
    "    TEST_STEPS = config['TTA_STEPS'] * ct_test/config['BATCH_SIZE']/4/REPLICAS\n",
    "    \n",
    "    ### MODEL\n",
    "    K.clear_session()\n",
    "    with strategy.scope():\n",
    "        model = model_fn((config['HEIGHT_RS'], config['WIDTH_RS'], config['CHANNELS']))\n",
    "\n",
    "    model_path_last = f'model_{fold}_last.h5'\n",
    "    es = EarlyStopping(monitor='val_auc', mode='max', patience=config['ES_PATIENCE'], \n",
    "                       restore_best_weights=True, verbose=1)\n",
    "    \n",
    "#     ### Warmup\n",
    "#     history = model.fit(resampled_ds, \n",
    "#                         validation_data=get_dataset(files_valid, augment=None, shuffle=False,\n",
    "#                                                     repeat=False, dim=config['HEIGHT']), \n",
    "#                         steps_per_epoch=50, \n",
    "#                         epochs=10, \n",
    "#                         verbose=2).history\n",
    "    \n",
    "#     unfreeze_model(model)\n",
    "\n",
    "    ### TRAIN\n",
    "    history = model.fit(resampled_ds, \n",
    "                        validation_data=get_dataset(files_valid, augment=None, shuffle=False,\n",
    "                                                    repeat=False, dim=config['HEIGHT']), \n",
    "                        steps_per_epoch=steps_per_epoch, \n",
    "                        callbacks=[es, get_lr_callback()], \n",
    "                        epochs=config['EPOCHS'], \n",
    "                        verbose=2).history\n",
    "      \n",
    "    history_list.append(history)\n",
    "    # Save last model weights\n",
    "    model.save_weights(model_path_last)\n",
    "\n",
    "    # GET OOF TARGETS AND NAMES\n",
    "    ds_valid = get_dataset(files_valid, augment=None, repeat=False, dim=config['HEIGHT'],\n",
    "                           labeled=True, return_image_names=True)\n",
    "    oof_tar.append(np.array([target.numpy() for img, target in iter(ds_valid.unbatch())]))\n",
    "    oof_folds.append(np.ones_like(oof_tar[-1], dtype='int8')*fold)\n",
    "    ds = get_dataset(files_valid, augment=None, repeat=False, dim=config['HEIGHT'],\n",
    "                     labeled=False, return_image_names=True)\n",
    "    oof_names.append(np.array([img_name.numpy().decode(\"utf-8\") for img, img_name in iter(ds.unbatch())]))\n",
    "\n",
    "    # PREDICT OOF USING TTA\n",
    "    print('Predicting OOF with TTA...')\n",
    "    ds_valid = get_dataset(files_valid, labeled=False, return_image_names=False, augment=data_augment_tta,\n",
    "                           repeat=True, shuffle=False, dim=config['HEIGHT'], batch_size=config['BATCH_SIZE']*4)\n",
    "    pred = model.predict(ds_valid, steps=VALID_STEPS, verbose=2)[:config['TTA_STEPS']*ct_valid,]\n",
    "    oof_pred.append(np.mean(pred.reshape((ct_valid, config['TTA_STEPS']), order='F'),axis=1))\n",
    "\n",
    "    ### RESULTS\n",
    "    auc = roc_auc_score(oof_tar[-1], oof_pred[-1])\n",
    "    oof_val.append(np.max(history['val_auc']))\n",
    "    print(f'#### FOLD {fold+1} OOF AUC = {oof_val[-1]:.3f}, with TTA = {auc:.3f}')\n",
    "\n",
    "    if config['INFERENCE']:\n",
    "        # PREDICT TEST USING TTA\n",
    "        print('Predicting Test with TTA...')\n",
    "        ds_test = get_dataset(TEST_FILENAMES, labeled=False, return_image_names=False, augment=data_augment_tta,\n",
    "                              repeat=True, shuffle=False, dim=config['HEIGHT'], batch_size=config['BATCH_SIZE']*4)\n",
    "        pred = model.predict(ds_test, steps=TEST_STEPS, verbose=2)[:config['TTA_STEPS']*ct_test,]\n",
    "        preds[:,0] += np.mean(pred.reshape((ct_test, config['TTA_STEPS']), order='F'), axis=1) / config['N_USED_FOLDS']"
   ]
  },
  {
   "cell_type": "markdown",
   "execution_count": null,
   "metadata": {
    "papermill": {
     "duration": null,
     "end_time": null,
     "exception": null,
     "start_time": null,
     "status": "pending"
    },
    "tags": []
   },
   "source": [
    "## Model loss graph"
   ]
  },
  {
   "cell_type": "code",
   "execution_count": null,
   "metadata": {
    "_kg_hide-input": true,
    "papermill": {
     "duration": null,
     "end_time": null,
     "exception": null,
     "start_time": null,
     "status": "pending"
    },
    "tags": []
   },
   "outputs": [],
   "source": [
    "for n_fold, history in enumerate(history_list):\n",
    "    print(f'Fold: {n_fold + 1}')\n",
    "    epochs = np.arange(len(history['loss']))\n",
    "    plt.figure(figsize=(15,5))\n",
    "    plt.plot(epochs, history['auc'],'-o',label='Train AUC',color='#ff7f0e')\n",
    "    plt.plot(epochs, history['val_auc'],'-o',label='Val AUC',color='#1f77b4')\n",
    "    x = np.argmax(history['val_auc'])\n",
    "    y = np.max(history['val_auc'])\n",
    "    xdist = plt.xlim()[1] - plt.xlim()[0]\n",
    "    ydist = plt.ylim()[1] - plt.ylim()[0]\n",
    "    plt.scatter(x,y,s=200,color='#1f77b4')\n",
    "    plt.text(x-0.03*xdist,y-0.13*ydist,'max auc\\n%.2f'%y,size=14)\n",
    "    plt.ylabel('AUC',size=14)\n",
    "    plt.xlabel('Epoch',size=14)\n",
    "    plt.legend(loc=2)\n",
    "    \n",
    "    plt2 = plt.gca().twinx()\n",
    "    plt2.plot(epochs, history['loss'],'-o',label='Train Loss',color='#2ca02c')\n",
    "    plt2.plot(epochs, history['val_loss'],'-o',label='Val Loss',color='#d62728')\n",
    "    x = np.argmin(history['val_loss'])\n",
    "    y = np.min(history['val_loss'])\n",
    "    ydist = plt.ylim()[1] - plt.ylim()[0]\n",
    "    plt.scatter(x,y,s=200,color='#d62728')\n",
    "    plt.text(x-0.03*xdist,y+0.05*ydist,'min loss',size=14)\n",
    "    plt.ylabel('Loss',size=14)\n",
    "    plt.legend(loc=3)\n",
    "    plt.show()"
   ]
  },
  {
   "cell_type": "markdown",
   "execution_count": null,
   "metadata": {
    "papermill": {
     "duration": null,
     "end_time": null,
     "exception": null,
     "start_time": null,
     "status": "pending"
    },
    "tags": []
   },
   "source": [
    "# Model evaluation"
   ]
  },
  {
   "cell_type": "code",
   "execution_count": null,
   "metadata": {
    "_kg_hide-input": true,
    "papermill": {
     "duration": null,
     "end_time": null,
     "exception": null,
     "start_time": null,
     "status": "pending"
    },
    "tags": []
   },
   "outputs": [],
   "source": [
    "# COMPUTE OVERALL OOF AUC\n",
    "true = np.concatenate(oof_tar)\n",
    "names = np.concatenate(oof_names)\n",
    "folds = np.concatenate(oof_folds)\n",
    "oof = np.concatenate(oof_pred)\n",
    "auc = roc_auc_score(true, oof)\n",
    "print(f'Overall OOF AUC with TTA = {auc:.3f}')\n",
    "\n",
    "# SAVE OOF TO DISK\n",
    "df_oof = pd.DataFrame(dict(image_name=names, fold=folds, target=true, pred=oof))\n",
    "df_oof.to_csv('oof.csv', index=False)\n",
    "display(df_oof.head())\n",
    "display(df_oof.describe().T)"
   ]
  },
  {
   "cell_type": "markdown",
   "execution_count": null,
   "metadata": {
    "papermill": {
     "duration": null,
     "end_time": null,
     "exception": null,
     "start_time": null,
     "status": "pending"
    },
    "tags": []
   },
   "source": [
    "# Visualize test predictions"
   ]
  },
  {
   "cell_type": "code",
   "execution_count": null,
   "metadata": {
    "_kg_hide-input": true,
    "papermill": {
     "duration": null,
     "end_time": null,
     "exception": null,
     "start_time": null,
     "status": "pending"
    },
    "tags": []
   },
   "outputs": [],
   "source": [
    "if config['INFERENCE']:\n",
    "    ds = get_dataset(TEST_FILENAMES, augment=False, repeat=False, dim=config['HEIGHT'],\n",
    "                     labeled=False, return_image_names=True)\n",
    "\n",
    "    image_names = np.array([img_name.numpy().decode(\"utf-8\") for img, img_name in iter(ds.unbatch())])\n",
    "\n",
    "    submission = pd.DataFrame(dict(image_name=image_names, target=preds[:,0]))\n",
    "    submission = submission.sort_values('image_name')\n",
    "\n",
    "    print(f\"Test predictions {len(submission[submission['target'] > .5])}|{len(submission[submission['target'] <= .5])}\")\n",
    "\n",
    "    print('Top 10 samples')\n",
    "    display(submission.head(10))\n",
    "\n",
    "    print('Top 10 positive samples')\n",
    "    display(submission.query('target > .5').head(10))\n",
    "\n",
    "    fig = plt.subplots(figsize=(20, 4))\n",
    "    plt.hist(submission['target'], bins=100)\n",
    "    plt.title('Target', size=18)\n",
    "    plt.show()"
   ]
  },
  {
   "cell_type": "markdown",
   "execution_count": null,
   "metadata": {
    "papermill": {
     "duration": null,
     "end_time": null,
     "exception": null,
     "start_time": null,
     "status": "pending"
    },
    "tags": []
   },
   "source": [
    "# Test set predictions"
   ]
  },
  {
   "cell_type": "code",
   "execution_count": null,
   "metadata": {
    "_kg_hide-input": true,
    "papermill": {
     "duration": null,
     "end_time": null,
     "exception": null,
     "start_time": null,
     "status": "pending"
    },
    "tags": []
   },
   "outputs": [],
   "source": [
    "if config['INFERENCE']:\n",
    "    display(submission.head(10))\n",
    "    display(submission.describe().T)\n",
    "\n",
    "    submission[['image_name', 'target']].to_csv('submission.csv', index=False)"
   ]
  }
 ],
 "metadata": {
  "kernelspec": {
   "display_name": "Python 3",
   "language": "python",
   "name": "python3"
  },
  "language_info": {
   "codemirror_mode": {
    "name": "ipython",
    "version": 3
   },
   "file_extension": ".py",
   "mimetype": "text/x-python",
   "name": "python",
   "nbconvert_exporter": "python",
   "pygments_lexer": "ipython3",
   "version": "3.6.4"
  },
  "papermill": {
   "duration": null,
   "end_time": null,
   "environment_variables": {},
   "exception": null,
   "input_path": "__notebook__.ipynb",
   "output_path": "__notebook__.ipynb",
   "parameters": {},
   "start_time": "2020-08-17T21:25:44.932516",
   "version": "2.1.0"
  }
 },
 "nbformat": 4,
 "nbformat_minor": 4
}